{
 "cells": [
  {
   "cell_type": "code",
   "execution_count": 1,
   "id": "initial_id",
   "metadata": {
    "collapsed": true,
    "ExecuteTime": {
     "end_time": "2024-03-25T00:43:12.613827100Z",
     "start_time": "2024-03-25T00:43:00.090048600Z"
    }
   },
   "outputs": [
    {
     "name": "stdout",
     "output_type": "stream",
     "text": [
      "<class 'pandas.core.frame.DataFrame'>\n",
      "Index: 2763 entries, 112 to 2396\n",
      "Columns: 9642 entries, Genotype to 10_149535062_G\n",
      "dtypes: int64(9641), object(1)\n",
      "memory usage: 203.3+ MB\n",
      "None\n"
     ]
    }
   ],
   "source": [
    "import pandas as pd\n",
    "import numpy as np\n",
    "import time\n",
    "import rrBLUP as p_rrBlup\n",
    "from rpy2.robjects.packages import importr\n",
    "from rpy2.robjects import Formula as f\n",
    "from rpy2.robjects import pandas2ri\n",
    "import rpy2.robjects as ro\n",
    "pandas2ri.activate()\n",
    "rrBLUP = importr('rrBLUP')\n",
    "df_geno = pd.read_csv('data/23TC1_YLD14_SU_geno_final.txt', sep='\\t')\n",
    "df_geno = df_geno.sort_values(by=['Genotype'])\n",
    "print(df_geno.info())\n",
    "df_pheno = pd.read_csv(\"data/23TC1_YLD14_SU_pheno_final.txt\", sep='\\t')\n"
   ]
  },
  {
   "cell_type": "code",
   "outputs": [
    {
     "name": "stdout",
     "output_type": "stream",
     "text": [
      "<class 'pandas.core.frame.DataFrame'>\n",
      "Index: 2763 entries, 1929 to 179\n",
      "Data columns (total 2 columns):\n",
      " #   Column    Non-Null Count  Dtype  \n",
      "---  ------    --------------  -----  \n",
      " 0   Genotype  2763 non-null   object \n",
      " 1   YLD14_SU  2763 non-null   float64\n",
      "dtypes: float64(1), object(1)\n",
      "memory usage: 64.8+ KB\n",
      "None\n",
      "(2763, 9641)\n",
      "(2763, 1)\n"
     ]
    }
   ],
   "source": [
    "\n",
    "df_pheno_ordered = df_pheno.sort_values(by=['Genotype'])\n",
    "print(df_pheno_ordered.info())\n",
    "train_x = np.array(df_geno.drop('Genotype', axis=1))\n",
    "train_y = np.array(df_pheno_ordered['YLD14_SU']).reshape(-1, 1)\n",
    "train_x = train_x - 1\n",
    "print(train_x.shape)\n",
    "print(train_y.shape)"
   ],
   "metadata": {
    "collapsed": false,
    "ExecuteTime": {
     "end_time": "2024-03-25T00:43:14.833783200Z",
     "start_time": "2024-03-25T00:43:14.642438500Z"
    }
   },
   "id": "4ea00660ee17a7da",
   "execution_count": 2
  },
  {
   "cell_type": "code",
   "outputs": [
    {
     "data": {
      "text/plain": "array([[ 0.96460593,  0.40092433,  0.25768902, ..., -0.30201703,\n        -0.23842051, -0.23847136],\n       [ 0.40092433,  0.81633067,  0.42894227, ..., -0.22019376,\n        -0.27356791, -0.27299987],\n       [ 0.25768902,  0.42894227,  0.75699359, ..., -0.24150724,\n        -0.2534156 , -0.25408534],\n       ...,\n       [-0.30201703, -0.22019376, -0.24150724, ...,  0.70114823,\n         0.31388157,  0.31383073],\n       [-0.23842051, -0.27356791, -0.2534156 , ...,  0.31388157,\n         0.89487222,  0.89420248],\n       [-0.23847136, -0.27299987, -0.25408534, ...,  0.31383073,\n         0.89420248,  0.89569887]])"
     },
     "execution_count": 3,
     "metadata": {},
     "output_type": "execute_result"
    }
   ],
   "source": [
    "a_1 = rrBLUP.A_mat(train_x)\n",
    "a_1"
   ],
   "metadata": {
    "collapsed": false,
    "ExecuteTime": {
     "end_time": "2024-03-25T00:43:53.731595900Z",
     "start_time": "2024-03-25T00:43:16.866956900Z"
    }
   },
   "id": "1f778cf653c205a5",
   "execution_count": 3
  },
  {
   "cell_type": "code",
   "outputs": [
    {
     "data": {
      "text/plain": "numpy.ndarray"
     },
     "execution_count": 52,
     "metadata": {},
     "output_type": "execute_result"
    }
   ],
   "source": [
    "type(a_1)"
   ],
   "metadata": {
    "collapsed": false,
    "ExecuteTime": {
     "end_time": "2024-03-23T01:35:43.596344300Z",
     "start_time": "2024-03-23T01:35:43.592192800Z"
    }
   },
   "id": "eb6e2174ae759be4",
   "execution_count": 52
  },
  {
   "cell_type": "code",
   "outputs": [],
   "source": [
    "import aMat\n",
    "a_2 = aMat.add_mat_numpy(train_x+1)"
   ],
   "metadata": {
    "collapsed": false,
    "ExecuteTime": {
     "end_time": "2024-03-25T00:44:38.861429500Z",
     "start_time": "2024-03-25T00:44:37.795651Z"
    }
   },
   "id": "22084ea87f9364b1",
   "execution_count": 5
  },
  {
   "cell_type": "code",
   "outputs": [
    {
     "data": {
      "text/plain": "numpy.ndarray"
     },
     "execution_count": 53,
     "metadata": {},
     "output_type": "execute_result"
    }
   ],
   "source": [
    "import a_mat_jax\n",
    "import jax\n",
    "a_3 = a_mat_jax.add_mat_jax(train_x+1)\n",
    "a_3 = np.asarray(a_3)\n",
    "type(a_3)"
   ],
   "metadata": {
    "collapsed": false,
    "ExecuteTime": {
     "end_time": "2024-03-23T01:35:48.457885400Z",
     "start_time": "2024-03-23T01:35:47.864412600Z"
    }
   },
   "id": "1ed66c383a884e0e",
   "execution_count": 53
  },
  {
   "cell_type": "code",
   "outputs": [
    {
     "name": "stdout",
     "output_type": "stream",
     "text": [
      "Arrays are close: True\n"
     ]
    }
   ],
   "source": [
    "# Using allclose to compare\n",
    "close = np.allclose(a_2, a_3, rtol=0.00001, atol=0.00001)\n",
    "\n",
    "print(f\"Arrays are close: {close}\")"
   ],
   "metadata": {
    "collapsed": false,
    "ExecuteTime": {
     "end_time": "2024-03-23T01:35:50.365137700Z",
     "start_time": "2024-03-23T01:35:50.287741600Z"
    }
   },
   "id": "bdbcc53bb039085a",
   "execution_count": 54
  },
  {
   "cell_type": "code",
   "outputs": [
    {
     "name": "stdout",
     "output_type": "stream",
     "text": [
      "Running Time: 20.03 s\n"
     ]
    },
    {
     "ename": "AttributeError",
     "evalue": "'dict' object has no attribute 'rx2'",
     "output_type": "error",
     "traceback": [
      "\u001B[1;31m---------------------------------------------------------------------------\u001B[0m",
      "\u001B[1;31mAttributeError\u001B[0m                            Traceback (most recent call last)",
      "Cell \u001B[1;32mIn[4], line 7\u001B[0m\n\u001B[0;32m      5\u001B[0m \u001B[38;5;28mprint\u001B[39m(\u001B[38;5;124m'\u001B[39m\u001B[38;5;124mRunning Time: \u001B[39m\u001B[38;5;124m'\u001B[39m\u001B[38;5;241m+\u001B[39m\u001B[38;5;28mstr\u001B[39m(\u001B[38;5;28mround\u001B[39m(end_time\u001B[38;5;241m-\u001B[39mstart_time, \u001B[38;5;241m2\u001B[39m))\u001B[38;5;241m+\u001B[39m\u001B[38;5;124m'\u001B[39m\u001B[38;5;124m s\u001B[39m\u001B[38;5;124m'\u001B[39m)\n\u001B[0;32m      6\u001B[0m \u001B[38;5;66;03m#train_pred = g_result['u'] \u001B[39;00m\n\u001B[1;32m----> 7\u001B[0m train_pred \u001B[38;5;241m=\u001B[39m np\u001B[38;5;241m.\u001B[39marray(\u001B[43mg_result\u001B[49m\u001B[38;5;241;43m.\u001B[39;49m\u001B[43mrx2\u001B[49m(\u001B[38;5;124m'\u001B[39m\u001B[38;5;124mu\u001B[39m\u001B[38;5;124m'\u001B[39m))\n",
      "\u001B[1;31mAttributeError\u001B[0m: 'dict' object has no attribute 'rx2'"
     ]
    }
   ],
   "source": [
    "start_time = time.time()\n",
    "g_result = rrBLUP.mixed_solve(y = train_y, K = a_1)\n",
    "end_time = time.time()\n",
    "#print(g_result)\n",
    "print('Running Time: '+str(round(end_time-start_time, 2))+' s')\n",
    "#train_pred = g_result['u'] \n",
    "train_pred = np.array(g_result.rx2('u'))"
   ],
   "metadata": {
    "collapsed": false,
    "ExecuteTime": {
     "end_time": "2024-03-25T00:44:26.308267100Z",
     "start_time": "2024-03-25T00:44:05.897407300Z"
    }
   },
   "id": "d32dd35631566b26",
   "execution_count": 4
  },
  {
   "cell_type": "code",
   "outputs": [
    {
     "data": {
      "text/plain": "array([[689.5701105],\n       [615.9386355],\n       [661.3197776],\n       ...,\n       [692.8649345],\n       [709.3628695],\n       [684.4678623]])"
     },
     "execution_count": 39,
     "metadata": {},
     "output_type": "execute_result"
    }
   ],
   "source": [
    "train_y"
   ],
   "metadata": {
    "collapsed": false,
    "ExecuteTime": {
     "end_time": "2024-03-25T06:34:24.962192500Z",
     "start_time": "2024-03-25T06:34:24.951436400Z"
    }
   },
   "id": "3d0c303c9230d183",
   "execution_count": 39
  },
  {
   "cell_type": "code",
   "outputs": [
    {
     "name": "stdout",
     "output_type": "stream",
     "text": [
      "{'Vu': 462.6130366195777, 'Ve': 969.4607183018168, 'beta': array([[703.72274814]]), 'u': array([[-17.58200532],\n",
      "       [-21.2687656 ],\n",
      "       [ -0.33706766],\n",
      "       ...,\n",
      "       [ -4.68147966],\n",
      "       [-19.89370123],\n",
      "       [-20.12403582]]), 'LL': -13572.19170915865}\n",
      "Running Time: 17.25 s\n"
     ]
    }
   ],
   "source": [
    "start_time = time.time()\n",
    "g_result = p_rrBlup.mixed_solve(y = train_y, K = a_2)\n",
    "end_time = time.time()\n",
    "print(g_result)\n",
    "print('Running Time: '+str(round(end_time-start_time, 2))+' s')\n",
    "#train_pred = g_result['u'] \n",
    "rrblup_u = g_result['u']"
   ],
   "metadata": {
    "collapsed": false,
    "ExecuteTime": {
     "end_time": "2024-03-25T06:52:04.948507200Z",
     "start_time": "2024-03-25T06:51:47.691501200Z"
    }
   },
   "id": "557f3d43c301ad45",
   "execution_count": 64
  },
  {
   "cell_type": "code",
   "outputs": [
    {
     "data": {
      "text/plain": "array([[-17.59836984],\n       [-20.95136378],\n       [ -0.13633498],\n       ...,\n       [ -4.65200707],\n       [-20.01554518],\n       [-20.12818341]])"
     },
     "execution_count": 7,
     "metadata": {},
     "output_type": "execute_result"
    }
   ],
   "source": [
    "rrblup_u"
   ],
   "metadata": {
    "collapsed": false,
    "ExecuteTime": {
     "end_time": "2024-03-25T00:45:22.463225400Z",
     "start_time": "2024-03-25T00:45:22.454325500Z"
    }
   },
   "id": "2fdea088f03fd77",
   "execution_count": 7
  },
  {
   "cell_type": "code",
   "outputs": [
    {
     "name": "stdout",
     "output_type": "stream",
     "text": [
      "Correlation Coefficient (相关系数): 0.9999505295951803\n"
     ]
    }
   ],
   "source": [
    "import gblup\n",
    "g_result = gblup.solve_mixed_gblup_model(n_obs=len(train_y), obs_ids=[i for i in range(len(train_y))], y_values=train_y, ainv=np.linalg.inv(a_2))\n",
    "gblue_values = g_result[1:,]\n",
    "from scipy.stats import pearsonr\n",
    "\n",
    "rrblup_u_1d = rrblup_u.flatten()\n",
    "gblue_values_1d = gblue_values.flatten()\n",
    "\n",
    "# Now you can calculate the correlation coefficient\n",
    "correlation_coef = np.corrcoef(rrblup_u_1d, gblue_values_1d)[0, 1]\n",
    "print(\"Correlation Coefficient (相关系数):\", correlation_coef)\n"
   ],
   "metadata": {
    "collapsed": false,
    "ExecuteTime": {
     "end_time": "2024-03-25T08:34:01.640160900Z",
     "start_time": "2024-03-25T08:34:00.704205500Z"
    }
   },
   "id": "173e3d457a409f8e",
   "execution_count": 76
  },
  {
   "cell_type": "code",
   "outputs": [
    {
     "name": "stdout",
     "output_type": "stream",
     "text": [
      "Online License checked out Mon Mar 25 13:40:58 2024\n"
     ]
    }
   ],
   "source": [
    "asreml = importr('asreml')"
   ],
   "metadata": {
    "collapsed": false,
    "ExecuteTime": {
     "end_time": "2024-03-25T05:40:58.749306200Z",
     "start_time": "2024-03-25T05:40:56.371246400Z"
    }
   },
   "id": "79a0fb4f44e8b0df",
   "execution_count": 8
  },
  {
   "cell_type": "code",
   "outputs": [
    {
     "name": "stderr",
     "output_type": "stream",
     "text": [
      "R[write to console]: Reciprocal conditional number for original matrix is: 1.59179018378963e-06\n",
      "\n",
      "R[write to console]: Reciprocal conditional number for inverted matrix is: 1.24079893155397e-06\n",
      "\n",
      "R[write to console]: Inverse of matrix G does not appear to be ill-conditioned.\n",
      "\n"
     ]
    },
    {
     "data": {
      "text/plain": "array([[ 1.00000000e+00,  1.00000000e+00,  1.04168312e+01],\n       [ 2.00000000e+00,  1.00000000e+00,  5.02454510e-01],\n       [ 2.00000000e+00,  2.00000000e+00,  2.62023822e+01],\n       ...,\n       [ 2.76300000e+03,  2.76100000e+03, -2.16311000e-03],\n       [ 2.76300000e+03,  2.76200000e+03, -2.17669057e+01],\n       [ 2.76300000e+03,  2.76300000e+03,  2.63256497e+01]])"
     },
     "execution_count": 55,
     "metadata": {},
     "output_type": "execute_result"
    }
   ],
   "source": [
    "from rpy2.robjects import r, pandas2ri\n",
    "# Transfer G_matrix to R\n",
    "r.assign('ID', df_pheno_ordered['Genotype'])\n",
    "r.assign('Gmat', a_2)\n",
    "r('''\n",
    "# Adjust G_matrix and invert\n",
    "library(ASRgenomics)\n",
    "rownames(Gmat) = ID\n",
    "colnames(Gmat) = ID\n",
    "diag(Gmat) <- diag(Gmat) + 0.01\n",
    "ginv = G.inverse(Gmat,sparseform = T)$Ginv.sparse''')\n"
   ],
   "metadata": {
    "collapsed": false,
    "ExecuteTime": {
     "end_time": "2024-03-25T06:48:06.249000300Z",
     "start_time": "2024-03-25T06:47:55.518842300Z"
    }
   },
   "id": "b3e7ef8025b116",
   "execution_count": 55
  },
  {
   "cell_type": "code",
   "outputs": [],
   "source": [
    "\n",
    "df_pheno_ordered['Genotype'] = df_pheno_ordered['Genotype'].astype('category')"
   ],
   "metadata": {
    "collapsed": false,
    "ExecuteTime": {
     "end_time": "2024-03-25T06:17:55.988217Z",
     "start_time": "2024-03-25T06:17:55.974047700Z"
    }
   },
   "id": "acabf46be808b8ab",
   "execution_count": 18
  },
  {
   "cell_type": "code",
   "outputs": [],
   "source": [
    "import rpy2.robjects as robjects\n",
    "\n",
    "modg = asreml.asreml(\n",
    "fixed = f('YLD14_SU ~ 1'),\n",
    "random = f('~vm(Genotype,ginv)'),\n",
    "dense = f('~vm(Genotype,ginv)'),\n",
    "residual =f('~idv(units)'), \n",
    "workspace = \"2Gb\",\n",
    "data = df_pheno_ordered)"
   ],
   "metadata": {
    "collapsed": false,
    "ExecuteTime": {
     "end_time": "2024-03-25T06:49:06.121751300Z",
     "start_time": "2024-03-25T06:48:43.097036700Z"
    }
   },
   "id": "5e0bb540a4a4c72c",
   "execution_count": 56
  },
  {
   "cell_type": "code",
   "outputs": [
    {
     "name": "stdout",
     "output_type": "stream",
     "text": [
      "                              component std.error  z.ratio bound %ch\n",
      "vm(Genotype, G_matrix_inv) 5.972789e-06        NA       NA     B  NA\n",
      "units!units                1.170023e+03  31.48448 37.16189     P   0\n",
      "units!R                    1.000000e+00        NA       NA     F   0\n"
     ]
    }
   ],
   "source": [
    "summ = asreml.summary_asreml(modg)\n",
    "print(summ.rx2('varcomp'))"
   ],
   "metadata": {
    "collapsed": false,
    "ExecuteTime": {
     "end_time": "2024-03-25T06:20:01.616208300Z",
     "start_time": "2024-03-25T06:20:01.609791200Z"
    }
   },
   "id": "305ddc385d71eed4",
   "execution_count": 21
  },
  {
   "cell_type": "code",
   "outputs": [],
   "source": [
    "asreml_u = (modg.rx2['coefficients'].rx2['random'])\n"
   ],
   "metadata": {
    "collapsed": false,
    "ExecuteTime": {
     "end_time": "2024-03-25T06:50:25.449294Z",
     "start_time": "2024-03-25T06:50:25.444424600Z"
    }
   },
   "id": "5b5a60ff985757ff",
   "execution_count": 58
  },
  {
   "cell_type": "code",
   "outputs": [
    {
     "data": {
      "text/plain": "array([[-17.5657198 ],\n       [-21.58628211],\n       [ -0.53769809],\n       ...,\n       [ -4.71096706],\n       [-19.77202265],\n       [-20.12006455]])"
     },
     "execution_count": 63,
     "metadata": {},
     "output_type": "execute_result"
    }
   ],
   "source": [
    "close = np.allclose(rrblup_u, asreml_u, rtol=0.00001, atol=0.00001)\n",
    "\n"
   ],
   "metadata": {
    "collapsed": false,
    "ExecuteTime": {
     "end_time": "2024-03-25T06:51:13.081435600Z",
     "start_time": "2024-03-25T06:51:13.077258400Z"
    }
   },
   "id": "e2d6659412f49f53",
   "execution_count": 63
  },
  {
   "cell_type": "code",
   "outputs": [
    {
     "name": "stdout",
     "output_type": "stream",
     "text": [
      "Correlation Coefficient (相关系数): 0.9999217812834612\n"
     ]
    }
   ],
   "source": [
    "from scipy.stats import pearsonr\n",
    "\n",
    "rrblup_u_1d = rrblup_u.flatten()\n",
    "asreml_u_1d = asreml_u.flatten()\n",
    "\n",
    "# Now you can calculate the correlation coefficient\n",
    "correlation_coef = np.corrcoef(rrblup_u_1d, asreml_u_1d)[0, 1]\n",
    "print(\"Correlation Coefficient (相关系数):\", correlation_coef)\n"
   ],
   "metadata": {
    "collapsed": false,
    "ExecuteTime": {
     "end_time": "2024-03-25T06:55:01.965913100Z",
     "start_time": "2024-03-25T06:55:01.955398600Z"
    }
   },
   "id": "d0553370feb1b95f",
   "execution_count": 70
  }
 ],
 "metadata": {
  "kernelspec": {
   "display_name": "Python 3",
   "language": "python",
   "name": "python3"
  },
  "language_info": {
   "codemirror_mode": {
    "name": "ipython",
    "version": 2
   },
   "file_extension": ".py",
   "mimetype": "text/x-python",
   "name": "python",
   "nbconvert_exporter": "python",
   "pygments_lexer": "ipython2",
   "version": "2.7.6"
  }
 },
 "nbformat": 4,
 "nbformat_minor": 5
}
