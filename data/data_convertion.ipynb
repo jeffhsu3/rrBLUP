{
 "cells": [
  {
   "cell_type": "code",
   "execution_count": 1,
   "id": "13f8b9d9",
   "metadata": {},
   "outputs": [],
   "source": [
    "import pandas as pd\n",
    "import numpy as np\n",
    "train = pd.read_csv('protein.train.csv')\n",
    "test = pd.read_csv('protein.test.csv')"
   ]
  },
  {
   "cell_type": "code",
   "execution_count": 2,
   "id": "756ab051",
   "metadata": {},
   "outputs": [],
   "source": [
    "def from012to_101(df):\n",
    "    new_df = pd.DataFrame()\n",
    "    new_df['label'] = df['label']\n",
    "    for i in df.columns.tolist()[1:]:\n",
    "        tmp = []\n",
    "        for j in range(len(df[i])):\n",
    "            if df[i][j] == -1:\n",
    "                tmp.append(pd.NA)\n",
    "            else:\n",
    "                tmp.append(df[i][j] - 1)\n",
    "        new_df[i] = tmp\n",
    "    return new_df"
   ]
  },
  {
   "cell_type": "code",
   "execution_count": 3,
   "id": "3aa5a181",
   "metadata": {},
   "outputs": [],
   "source": [
    "train_ = from012to_101(train)\n",
    "train_.to_csv('protein.train.nan-101.csv', index=0)"
   ]
  },
  {
   "cell_type": "code",
   "execution_count": 4,
   "id": "68ffc6d1",
   "metadata": {},
   "outputs": [],
   "source": [
    "test_ = from012to_101(test)\n",
    "test_.to_csv('protein.test.nan-101.csv', index=0)"
   ]
  }
 ],
 "metadata": {
  "kernelspec": {
   "display_name": "Python 3",
   "language": "python",
   "name": "python3"
  },
  "language_info": {
   "codemirror_mode": {
    "name": "ipython",
    "version": 3
   },
   "file_extension": ".py",
   "mimetype": "text/x-python",
   "name": "python",
   "nbconvert_exporter": "python",
   "pygments_lexer": "ipython3",
   "version": "3.8.8"
  }
 },
 "nbformat": 4,
 "nbformat_minor": 5
}
