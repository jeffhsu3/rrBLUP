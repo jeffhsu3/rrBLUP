{
 "cells": [
  {
   "cell_type": "code",
   "execution_count": 1,
   "id": "initial_id",
   "metadata": {
    "collapsed": true,
    "ExecuteTime": {
     "end_time": "2024-03-23T00:51:49.603854400Z",
     "start_time": "2024-03-23T00:51:45.861543100Z"
    }
   },
   "outputs": [
    {
     "name": "stdout",
     "output_type": "stream",
     "text": [
      "<class 'pandas.core.frame.DataFrame'>\n",
      "Index: 2763 entries, 112 to 2396\n",
      "Columns: 9642 entries, Genotype to 10_149535062_G\n",
      "dtypes: int64(9641), object(1)\n",
      "memory usage: 203.3+ MB\n",
      "None\n"
     ]
    }
   ],
   "source": [
    "import pandas as pd\n",
    "import numpy as np\n",
    "import time\n",
    "import rrBLUP\n",
    "df_geno = pd.read_csv('data/23TC1_YLD14_SU_geno_final.txt', sep='\\t')\n",
    "df_geno = df_geno.sort_values(by=['Genotype'])\n",
    "print(df_geno.info())\n",
    "df_pheno = pd.read_csv(\"data/23TC1_YLD14_SU_pheno_final.txt\", sep='\\t')\n"
   ]
  },
  {
   "cell_type": "code",
   "outputs": [
    {
     "name": "stdout",
     "output_type": "stream",
     "text": [
      "<class 'pandas.core.frame.DataFrame'>\n",
      "Index: 2763 entries, 1929 to 179\n",
      "Data columns (total 2 columns):\n",
      " #   Column    Non-Null Count  Dtype  \n",
      "---  ------    --------------  -----  \n",
      " 0   Genotype  2763 non-null   object \n",
      " 1   YLD14_SU  2763 non-null   float64\n",
      "dtypes: float64(1), object(1)\n",
      "memory usage: 64.8+ KB\n",
      "None\n",
      "(2763, 9641)\n",
      "(2763, 1)\n"
     ]
    }
   ],
   "source": [
    "\n",
    "df_pheno_ordered = df_pheno.sort_values(by=['Genotype'])\n",
    "print(df_pheno_ordered.info())\n",
    "train_x = np.array(df_geno.drop('Genotype', axis=1))\n",
    "train_y = np.array(df_pheno_ordered['YLD14_SU']).reshape(-1, 1)\n",
    "train_x = train_x - 1\n",
    "print(train_x.shape)\n",
    "print(train_y.shape)"
   ],
   "metadata": {
    "collapsed": false,
    "ExecuteTime": {
     "end_time": "2024-03-23T00:52:01.713868700Z",
     "start_time": "2024-03-23T00:52:01.567439200Z"
    }
   },
   "id": "4ea00660ee17a7da",
   "execution_count": 2
  },
  {
   "cell_type": "code",
   "outputs": [],
   "source": [
    "a_1 = rrBLUP.A_mat(train_x)\n",
    "a_1"
   ],
   "metadata": {
    "collapsed": false,
    "ExecuteTime": {
     "end_time": "2024-03-23T00:53:45.474818Z",
     "start_time": "2024-03-23T00:52:44.054145500Z"
    }
   },
   "id": "1f778cf653c205a5",
   "execution_count": 3
  },
  {
   "cell_type": "code",
   "outputs": [
    {
     "data": {
      "text/plain": "numpy.ndarray"
     },
     "execution_count": 22,
     "metadata": {},
     "output_type": "execute_result"
    }
   ],
   "source": [
    "type(a_1)"
   ],
   "metadata": {
    "collapsed": false,
    "ExecuteTime": {
     "end_time": "2024-03-23T01:04:41.642221Z",
     "start_time": "2024-03-23T01:04:41.624443300Z"
    }
   },
   "id": "eb6e2174ae759be4",
   "execution_count": 22
  },
  {
   "cell_type": "code",
   "outputs": [],
   "source": [
    "import aMat\n",
    "a_2 = aMat.add_mat_numpy(train_x+1)"
   ],
   "metadata": {
    "collapsed": false,
    "ExecuteTime": {
     "end_time": "2024-03-23T01:10:23.791477300Z",
     "start_time": "2024-03-23T01:10:22.853119Z"
    }
   },
   "id": "22084ea87f9364b1",
   "execution_count": 27
  },
  {
   "cell_type": "code",
   "outputs": [
    {
     "data": {
      "text/plain": "numpy.ndarray"
     },
     "execution_count": 38,
     "metadata": {},
     "output_type": "execute_result"
    }
   ],
   "source": [
    "import a_mat_jax\n",
    "import jax\n",
    "a_3 = a_mat_jax.add_mat_jax(train_x+1)\n",
    "a_3 = np.asarray(a_3)\n",
    "type(a_3)"
   ],
   "metadata": {
    "collapsed": false,
    "ExecuteTime": {
     "end_time": "2024-03-23T01:16:10.802205200Z",
     "start_time": "2024-03-23T01:16:10.233960Z"
    }
   },
   "id": "1ed66c383a884e0e",
   "execution_count": 38
  },
  {
   "cell_type": "code",
   "outputs": [
    {
     "name": "stdout",
     "output_type": "stream",
     "text": [
      "Arrays are close: True\n"
     ]
    }
   ],
   "source": [
    "# Using allclose to compare\n",
    "close = np.allclose(a_1, a_2, rtol=0.0001, atol=0.0001)\n",
    "\n",
    "print(f\"Arrays are close: {close}\")"
   ],
   "metadata": {
    "collapsed": false,
    "ExecuteTime": {
     "end_time": "2024-03-23T01:10:45.248073700Z",
     "start_time": "2024-03-23T01:10:45.146571300Z"
    }
   },
   "id": "bdbcc53bb039085a",
   "execution_count": 30
  },
  {
   "cell_type": "code",
   "outputs": [
    {
     "name": "stdout",
     "output_type": "stream",
     "text": [
      "Running Time: 17.74 s\n"
     ]
    }
   ],
   "source": [
    "start_time = time.time()\n",
    "g_result = rrBLUP.mixed_solve(y = train_y, K = a_1)\n",
    "end_time = time.time()\n",
    "#print(g_result)\n",
    "print('Running Time: '+str(round(end_time-start_time, 2))+' s')\n",
    "train_pred = g_result['u'] "
   ],
   "metadata": {
    "collapsed": false,
    "ExecuteTime": {
     "end_time": "2024-03-23T01:01:35.992522700Z",
     "start_time": "2024-03-23T01:01:18.250576300Z"
    }
   },
   "id": "d32dd35631566b26",
   "execution_count": 15
  },
  {
   "cell_type": "code",
   "outputs": [
    {
     "data": {
      "text/plain": "array([[-17.59836984],\n       [-20.95136377],\n       [ -0.13633499],\n       ...,\n       [ -4.65200707],\n       [-20.01554517],\n       [-20.1281834 ]])"
     },
     "execution_count": 16,
     "metadata": {},
     "output_type": "execute_result"
    }
   ],
   "source": [
    "train_pred"
   ],
   "metadata": {
    "collapsed": false,
    "ExecuteTime": {
     "end_time": "2024-03-23T01:01:45.967475Z",
     "start_time": "2024-03-23T01:01:45.954682900Z"
    }
   },
   "id": "3d0c303c9230d183",
   "execution_count": 16
  },
  {
   "cell_type": "code",
   "outputs": [
    {
     "name": "stdout",
     "output_type": "stream",
     "text": [
      "K not positive semi-definite.\n",
      "Running Time: 8.41 s\n"
     ]
    },
    {
     "ename": "TypeError",
     "evalue": "'NoneType' object is not subscriptable",
     "output_type": "error",
     "traceback": [
      "\u001B[1;31m---------------------------------------------------------------------------\u001B[0m",
      "\u001B[1;31mTypeError\u001B[0m                                 Traceback (most recent call last)",
      "Cell \u001B[1;32mIn[39], line 6\u001B[0m\n\u001B[0;32m      4\u001B[0m \u001B[38;5;66;03m#print(g_result)\u001B[39;00m\n\u001B[0;32m      5\u001B[0m \u001B[38;5;28mprint\u001B[39m(\u001B[38;5;124m'\u001B[39m\u001B[38;5;124mRunning Time: \u001B[39m\u001B[38;5;124m'\u001B[39m\u001B[38;5;241m+\u001B[39m\u001B[38;5;28mstr\u001B[39m(\u001B[38;5;28mround\u001B[39m(end_time\u001B[38;5;241m-\u001B[39mstart_time, \u001B[38;5;241m2\u001B[39m))\u001B[38;5;241m+\u001B[39m\u001B[38;5;124m'\u001B[39m\u001B[38;5;124m s\u001B[39m\u001B[38;5;124m'\u001B[39m)\n\u001B[1;32m----> 6\u001B[0m train_pred_new \u001B[38;5;241m=\u001B[39m \u001B[43mg_result_new\u001B[49m\u001B[43m[\u001B[49m\u001B[38;5;124;43m'\u001B[39;49m\u001B[38;5;124;43mu\u001B[39;49m\u001B[38;5;124;43m'\u001B[39;49m\u001B[43m]\u001B[49m \n\u001B[0;32m      7\u001B[0m train_pred_new\n",
      "\u001B[1;31mTypeError\u001B[0m: 'NoneType' object is not subscriptable"
     ]
    }
   ],
   "source": [
    "start_time = time.time()\n",
    "g_result_new = rrBLUP.mixed_solve(y = train_y, K = a_3)\n",
    "end_time = time.time()\n",
    "#print(g_result)\n",
    "print('Running Time: '+str(round(end_time-start_time, 2))+' s')\n",
    "train_pred_new = g_result_new['u'] \n",
    "train_pred_new"
   ],
   "metadata": {
    "collapsed": false,
    "ExecuteTime": {
     "end_time": "2024-03-23T01:16:26.084069700Z",
     "start_time": "2024-03-23T01:16:17.660955900Z"
    }
   },
   "id": "557f3d43c301ad45",
   "execution_count": 39
  },
  {
   "cell_type": "code",
   "outputs": [
    {
     "name": "stdout",
     "output_type": "stream",
     "text": [
      "<class 'numpy.ndarray'>\n"
     ]
    }
   ],
   "source": [
    "import jax.numpy as jnp\n",
    "import numpy as np\n",
    "\n",
    "# Create a JAX array\n",
    "jax_array = jnp.array([1, 2, 3])\n",
    "\n",
    "# Convert to a NumPy array\n",
    "numpy_array = np.asarray(jax_array)\n",
    "\n",
    "print(type(numpy_array))  # <class 'numpy.ndarray'>\n"
   ],
   "metadata": {
    "collapsed": false,
    "ExecuteTime": {
     "end_time": "2024-03-23T01:15:38.449024800Z",
     "start_time": "2024-03-23T01:15:38.443083500Z"
    }
   },
   "id": "2fdea088f03fd77",
   "execution_count": 37
  },
  {
   "cell_type": "code",
   "outputs": [],
   "source": [],
   "metadata": {
    "collapsed": false
   },
   "id": "79a0fb4f44e8b0df"
  }
 ],
 "metadata": {
  "kernelspec": {
   "display_name": "Python 3",
   "language": "python",
   "name": "python3"
  },
  "language_info": {
   "codemirror_mode": {
    "name": "ipython",
    "version": 2
   },
   "file_extension": ".py",
   "mimetype": "text/x-python",
   "name": "python",
   "nbconvert_exporter": "python",
   "pygments_lexer": "ipython2",
   "version": "2.7.6"
  }
 },
 "nbformat": 4,
 "nbformat_minor": 5
}
