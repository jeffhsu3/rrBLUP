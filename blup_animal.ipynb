{
 "cells": [
  {
   "cell_type": "code",
   "execution_count": 35,
   "id": "initial_id",
   "metadata": {
    "collapsed": true,
    "ExecuteTime": {
     "end_time": "2024-03-25T09:19:22.281546600Z",
     "start_time": "2024-03-25T09:19:22.075735900Z"
    }
   },
   "outputs": [
    {
     "name": "stdout",
     "output_type": "stream",
     "text": [
      "[[1.    0.    0.    0.5   0.    0.5   0.25  0.25 ]\n",
      " [0.    1.    0.    0.    0.5   0.5   0.25  0.25 ]\n",
      " [0.    0.    1.    0.    0.5   0.    0.25  0.5  ]\n",
      " [0.5   0.    0.    1.    0.    0.25  0.5   0.125]\n",
      " [0.    0.5   0.5   0.    1.    0.25  0.5   0.375]\n",
      " [0.5   0.5   0.    0.25  0.25  1.    0.25  0.5  ]\n",
      " [0.25  0.25  0.25  0.5   0.5   0.25  1.    0.25 ]\n",
      " [0.25  0.25  0.5   0.125 0.375 0.5   0.25  1.   ]]\n"
     ]
    }
   ],
   "source": [
    "import numpy as np\n",
    "from rpy2.robjects import pandas2ri, r\n",
    "from rpy2.robjects.packages import importr\n",
    "pandas2ri.activate()\n",
    "import pandas as pd\n",
    "# Load qgenet package in R\n",
    "qgenet = importr('qgenet')\n",
    "\n",
    "# Define your pedigree data\n",
    "ped_data = {\n",
    "    'ID': [1, 2, 3, 4, 5, 6, 7, 8],\n",
    "    'SIRE': [0, 0, 0, 1, 3, 1, 4, 3],\n",
    "    'DAM': [0, 0, 0, 0, 2, 2, 5, 6]\n",
    "}\n",
    "\n",
    "# Convert your pedigree data to an R dataframe\n",
    "ped_df = pandas2ri.py2rpy_pandasdataframe(pd.DataFrame(ped_data))\n",
    "\n",
    "# Compute the A matrix using qgenet package in R\n",
    "A = qgenet.amatrix(ped_df)\n",
    "\n",
    "# Invert the A matrix\n",
    "#ainv = np.array(r.solve(A))\n",
    "ainv = np.linalg.inv(A)\n",
    "print(np.array(A))\n",
    "#np.allclose(ainv,e)"
   ]
  },
  {
   "cell_type": "code",
   "outputs": [
    {
     "name": "stdout",
     "output_type": "stream",
     "text": [
      "Solution: [[ 3.97256482]\n",
      " [ 0.12596923]\n",
      " [-0.15757814]\n",
      " [-0.024685  ]\n",
      " [ 0.14742549]\n",
      " [-0.31838503]\n",
      " [ 0.05387085]\n",
      " [-0.16289678]\n",
      " [ 0.21716138]]\n"
     ]
    }
   ],
   "source": [
    "# Example fixed effects (mean) and random effects (animal genetic effects) in Python\n",
    "X = np.ones((5,1))  # Assuming 5 observations and only a mean effect\n",
    "Z = np.array([\n",
    "    [0, 0, 0, 1, 0, 0, 0, 0],  # Observation for individual 4\n",
    "    [0, 0, 0, 0, 1, 0, 0, 0],  # Observation for individual 5\n",
    "    [0, 0, 0, 0, 0, 1, 0, 0],  # Observation for individual 6\n",
    "    [0, 0, 0, 0, 0, 0, 1, 0],  # Observation for individual 7\n",
    "    [0, 0, 0, 0, 0, 0, 0, 1]   # Observation for individual 8\n",
    "])\n",
    "# Observations\n",
    "y = np.array([4.5, 2.9, 3.9, 3.5, 5.0]).reshape(-1, 1)\n",
    "\n",
    "# Matrix operations\n",
    "XX = X.T @ X\n",
    "XZ = X.T @ Z\n",
    "ZX = Z.T @ X\n",
    "ZZ = Z.T @ Z\n",
    "ZZA = ZZ + ainv * 2  # Adjust based on your specific model\n",
    "Xy = X.T @ y\n",
    "Zy = Z.T @ y\n",
    "\n",
    "# Assemble mixed model equations\n",
    "mme = np.vstack([\n",
    "    np.hstack([XX, XZ]),\n",
    "    np.hstack([ZX, ZZA])\n",
    "])\n",
    "\n",
    "# Solution vector\n",
    "sol = np.linalg.solve(mme, np.vstack([Xy, Zy]))\n",
    "\n",
    "print(\"Solution:\", sol)\n"
   ],
   "metadata": {
    "collapsed": false,
    "ExecuteTime": {
     "end_time": "2024-03-25T08:25:27.920019400Z",
     "start_time": "2024-03-25T08:25:27.910221100Z"
    }
   },
   "id": "2d0bde54f8d10808",
   "execution_count": 25
  },
  {
   "cell_type": "code",
   "outputs": [
    {
     "name": "stdout",
     "output_type": "stream",
     "text": [
      "Solution vector: [[ 3.97256482]\n",
      " [ 0.12596923]\n",
      " [-0.15757814]\n",
      " [-0.024685  ]\n",
      " [ 0.14742549]\n",
      " [-0.31838503]\n",
      " [ 0.05387085]\n",
      " [-0.16289678]\n",
      " [ 0.21716138]]\n"
     ]
    }
   ],
   "source": [
    "import gblup\n",
    "# Number of observations\n",
    "n_obs = 5\n",
    "\n",
    "# IDs of individuals with observations (assuming these are 1-indexed and correspond to the order in 'ainv')\n",
    "obs_ids = [3,4,5,6,7]\n",
    "\n",
    "# Phenotype values for these observations\n",
    "y_values = [4.5, 2.9, 3.9, 3.5, 5.0]\n",
    "\n",
    "\n",
    "# Solve the mixed model\n",
    "solution_vector = gblup.solve_mixed_gblup_model(n_obs, obs_ids, y_values, A)\n",
    "\n",
    "print(\"Solution vector:\", solution_vector)"
   ],
   "metadata": {
    "collapsed": false,
    "ExecuteTime": {
     "end_time": "2024-03-25T08:35:28.902084100Z",
     "start_time": "2024-03-25T08:35:28.849465700Z"
    }
   },
   "id": "b2cc4cc1ae75c9e2",
   "execution_count": 30
  },
  {
   "cell_type": "code",
   "outputs": [
    {
     "data": {
      "text/plain": "True"
     },
     "execution_count": 31,
     "metadata": {},
     "output_type": "execute_result"
    }
   ],
   "source": [
    "np.allclose(solution_vector, sol)"
   ],
   "metadata": {
    "collapsed": false,
    "ExecuteTime": {
     "end_time": "2024-03-25T08:35:34.146131Z",
     "start_time": "2024-03-25T08:35:34.139378800Z"
    }
   },
   "id": "a70e3dd6866c165d",
   "execution_count": 31
  },
  {
   "cell_type": "code",
   "outputs": [],
   "source": [
    "import numpy as np\n",
    "\n",
    "def generate_synthetic_data(n_individuals, n_observations):\n",
    "    \"\"\"\n",
    "    Generate synthetic pedigree, observation IDs, and phenotype values.\n",
    "    \n",
    "    Parameters:\n",
    "    - n_individuals: Number of individuals in the pedigree.\n",
    "    - n_observations: Number of observations (must be <= n_individuals).\n",
    "    \n",
    "    Returns:\n",
    "    - ainv: Synthetic additive relationship matrix inverse for the pedigree.\n",
    "    - obs_ids: IDs of individuals with observations.\n",
    "    - y_values: Synthetic phenotype values for observations.\n",
    "    \"\"\"\n",
    "    # Generate a synthetic additive relationship matrix (A matrix) and invert it\n",
    "    # Here, we'll use an identity matrix for simplicity; in practice, A would be based on pedigree\n",
    "    A = np.eye(n_individuals)\n",
    "    ainv = np.linalg.inv(A + np.random.normal(0, 0.05, A.shape))  # Adding noise for a more realistic scenario\n",
    "    \n",
    "    # Generate observation IDs (random sample of individuals)\n",
    "    obs_ids = np.random.choice(range(0, n_individuals), n_observations, replace=False)\n",
    "    \n",
    "    # Generate synthetic phenotype values (normal distribution)\n",
    "    y_values = np.random.normal(10, 2, n_observations)\n",
    "    \n",
    "    return ainv, obs_ids, y_values\n",
    "\n",
    "# Parameters for synthetic data generation\n",
    "n_individuals = 6000  # Number of individuals in the pedigree\n",
    "n_observations = 3000  # Number of observations\n",
    "\n",
    "# Generate synthetic data\n",
    "ainv, obs_ids, y_values = generate_synthetic_data(n_individuals, n_observations)\n"
   ],
   "metadata": {
    "collapsed": false,
    "ExecuteTime": {
     "end_time": "2024-03-25T08:41:54.236514800Z",
     "start_time": "2024-03-25T08:41:49.193187800Z"
    }
   },
   "id": "640368833e3eb822",
   "execution_count": 32
  },
  {
   "cell_type": "code",
   "outputs": [
    {
     "data": {
      "text/plain": "array([[  9.65855164],\n       [ 26.53936216],\n       [ -3.45564058],\n       ...,\n       [ -1.37455656],\n       [ 14.0913003 ],\n       [-18.79276052]])"
     },
     "execution_count": 33,
     "metadata": {},
     "output_type": "execute_result"
    }
   ],
   "source": [
    "solution_vector = gblup.solve_mixed_gblup_model(n_observations, obs_ids, y_values, ainv)\n",
    "solution_vector"
   ],
   "metadata": {
    "collapsed": false,
    "ExecuteTime": {
     "end_time": "2024-03-25T08:42:03.490882200Z",
     "start_time": "2024-03-25T08:41:55.848715200Z"
    }
   },
   "id": "17d9a37deccf8a55",
   "execution_count": 33
  }
 ],
 "metadata": {
  "kernelspec": {
   "display_name": "Python 3",
   "language": "python",
   "name": "python3"
  },
  "language_info": {
   "codemirror_mode": {
    "name": "ipython",
    "version": 2
   },
   "file_extension": ".py",
   "mimetype": "text/x-python",
   "name": "python",
   "nbconvert_exporter": "python",
   "pygments_lexer": "ipython2",
   "version": "2.7.6"
  }
 },
 "nbformat": 4,
 "nbformat_minor": 5
}
