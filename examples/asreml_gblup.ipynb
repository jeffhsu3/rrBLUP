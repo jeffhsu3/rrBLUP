{
 "cells": [
  {
   "cell_type": "code",
   "execution_count": 29,
   "id": "initial_id",
   "metadata": {
    "collapsed": true,
    "ExecuteTime": {
     "end_time": "2024-03-26T06:41:29.984856Z",
     "start_time": "2024-03-26T06:41:28.523504300Z"
    }
   },
   "outputs": [],
   "source": [
    "import pyreadr\n",
    "import rpy2.robjects as ro\n",
    "from rpy2.robjects import pandas2ri\n",
    "from rpy2.robjects.packages import importr\n",
    "\n",
    "# Enable automatic conversion between pandas dataframes and R data frames\n",
    "pandas2ri.activate()\n",
    "\n",
    "# Import the R packages needed\n",
    "base = importr('base')\n",
    "asreml = importr('asreml')\n",
    "\n",
    "# Load your data from .rds files using pyreadr\n",
    "ped_result = pyreadr.read_r('data/pedigree_19_23P_1031.rds')\n",
    "blue_result = pyreadr.read_r('data/blue_yield.rds')\n",
    "\n",
    "# Extracting the data frames from the results\n",
    "ped_df = ped_result[None]  # Assuming it's the first and only item in the result\n",
    "blue_df = blue_result[None]  # Assuming it's the first and only item in the result\n",
    "\n",
    "# Convert pandas dataframes to R data frames and put them into the R environment\n",
    "ro.globalenv['ped'] = pandas2ri.py2rpy(ped_df)\n",
    "ro.globalenv['blue'] = pandas2ri.py2rpy(blue_df)\n",
    "\n"
   ]
  },
  {
   "cell_type": "code",
   "outputs": [
    {
     "data": {
      "text/plain": "             Name  predicted.value  std.error     status Block       DAM  \\\n0     23TC2XM3066       817.157834  55.459393  Estimable     2  ZMN00545   \n1     23TC2XM4004       736.076043  55.698624  Estimable     2    20W041   \n2        D178070A       369.039247  46.982307  Estimable     6  ZMN00824   \n3        D178070A       358.845544  39.343070  Estimable     3  ZMN00824   \n4        D178070A       525.068916  54.857062  Estimable     2  ZMN00824   \n...           ...              ...        ...        ...   ...       ...   \n2779        ZD958       268.765362  15.973387  Estimable     3  ZMN00113   \n2780        ZD958       510.696306  21.263064  Estimable     1  ZMN00113   \n2781        ZD958       314.059170  13.043818  Estimable     4  ZMN00113   \n2782        ZD958       333.884811  20.252772  Estimable     7  ZMN00113   \n2783        ZD958       300.026914  21.196859  Estimable     5  ZMN00113   \n\n             SIRE                 Fam  \n0        ZMN00392   ZMN00392_ZMN00545  \n1     20W065-43-2  20W065-43-2_20W041  \n2        ZMN00547   ZMN00547_ZMN00824  \n3        ZMN00547   ZMN00547_ZMN00824  \n4        ZMN00547   ZMN00547_ZMN00824  \n...           ...                 ...  \n2779     ZMN00337   ZMN00337_ZMN00113  \n2780     ZMN00337   ZMN00337_ZMN00113  \n2781     ZMN00337   ZMN00337_ZMN00113  \n2782     ZMN00337   ZMN00337_ZMN00113  \n2783     ZMN00337   ZMN00337_ZMN00113  \n\n[2784 rows x 8 columns]",
      "text/html": "<div>\n<style scoped>\n    .dataframe tbody tr th:only-of-type {\n        vertical-align: middle;\n    }\n\n    .dataframe tbody tr th {\n        vertical-align: top;\n    }\n\n    .dataframe thead th {\n        text-align: right;\n    }\n</style>\n<table border=\"1\" class=\"dataframe\">\n  <thead>\n    <tr style=\"text-align: right;\">\n      <th></th>\n      <th>Name</th>\n      <th>predicted.value</th>\n      <th>std.error</th>\n      <th>status</th>\n      <th>Block</th>\n      <th>DAM</th>\n      <th>SIRE</th>\n      <th>Fam</th>\n    </tr>\n  </thead>\n  <tbody>\n    <tr>\n      <th>0</th>\n      <td>23TC2XM3066</td>\n      <td>817.157834</td>\n      <td>55.459393</td>\n      <td>Estimable</td>\n      <td>2</td>\n      <td>ZMN00545</td>\n      <td>ZMN00392</td>\n      <td>ZMN00392_ZMN00545</td>\n    </tr>\n    <tr>\n      <th>1</th>\n      <td>23TC2XM4004</td>\n      <td>736.076043</td>\n      <td>55.698624</td>\n      <td>Estimable</td>\n      <td>2</td>\n      <td>20W041</td>\n      <td>20W065-43-2</td>\n      <td>20W065-43-2_20W041</td>\n    </tr>\n    <tr>\n      <th>2</th>\n      <td>D178070A</td>\n      <td>369.039247</td>\n      <td>46.982307</td>\n      <td>Estimable</td>\n      <td>6</td>\n      <td>ZMN00824</td>\n      <td>ZMN00547</td>\n      <td>ZMN00547_ZMN00824</td>\n    </tr>\n    <tr>\n      <th>3</th>\n      <td>D178070A</td>\n      <td>358.845544</td>\n      <td>39.343070</td>\n      <td>Estimable</td>\n      <td>3</td>\n      <td>ZMN00824</td>\n      <td>ZMN00547</td>\n      <td>ZMN00547_ZMN00824</td>\n    </tr>\n    <tr>\n      <th>4</th>\n      <td>D178070A</td>\n      <td>525.068916</td>\n      <td>54.857062</td>\n      <td>Estimable</td>\n      <td>2</td>\n      <td>ZMN00824</td>\n      <td>ZMN00547</td>\n      <td>ZMN00547_ZMN00824</td>\n    </tr>\n    <tr>\n      <th>...</th>\n      <td>...</td>\n      <td>...</td>\n      <td>...</td>\n      <td>...</td>\n      <td>...</td>\n      <td>...</td>\n      <td>...</td>\n      <td>...</td>\n    </tr>\n    <tr>\n      <th>2779</th>\n      <td>ZD958</td>\n      <td>268.765362</td>\n      <td>15.973387</td>\n      <td>Estimable</td>\n      <td>3</td>\n      <td>ZMN00113</td>\n      <td>ZMN00337</td>\n      <td>ZMN00337_ZMN00113</td>\n    </tr>\n    <tr>\n      <th>2780</th>\n      <td>ZD958</td>\n      <td>510.696306</td>\n      <td>21.263064</td>\n      <td>Estimable</td>\n      <td>1</td>\n      <td>ZMN00113</td>\n      <td>ZMN00337</td>\n      <td>ZMN00337_ZMN00113</td>\n    </tr>\n    <tr>\n      <th>2781</th>\n      <td>ZD958</td>\n      <td>314.059170</td>\n      <td>13.043818</td>\n      <td>Estimable</td>\n      <td>4</td>\n      <td>ZMN00113</td>\n      <td>ZMN00337</td>\n      <td>ZMN00337_ZMN00113</td>\n    </tr>\n    <tr>\n      <th>2782</th>\n      <td>ZD958</td>\n      <td>333.884811</td>\n      <td>20.252772</td>\n      <td>Estimable</td>\n      <td>7</td>\n      <td>ZMN00113</td>\n      <td>ZMN00337</td>\n      <td>ZMN00337_ZMN00113</td>\n    </tr>\n    <tr>\n      <th>2783</th>\n      <td>ZD958</td>\n      <td>300.026914</td>\n      <td>21.196859</td>\n      <td>Estimable</td>\n      <td>5</td>\n      <td>ZMN00113</td>\n      <td>ZMN00337</td>\n      <td>ZMN00337_ZMN00113</td>\n    </tr>\n  </tbody>\n</table>\n<p>2784 rows × 8 columns</p>\n</div>"
     },
     "execution_count": 30,
     "metadata": {},
     "output_type": "execute_result"
    }
   ],
   "source": [
    "blue_df"
   ],
   "metadata": {
    "collapsed": false,
    "ExecuteTime": {
     "end_time": "2024-03-26T06:41:29.996886300Z",
     "start_time": "2024-03-26T06:41:29.985856400Z"
    }
   },
   "id": "fe6c64dc27d80b60",
   "execution_count": 30
  },
  {
   "cell_type": "code",
   "outputs": [
    {
     "data": {
      "text/plain": "              Name   FGenoID   MGenoID\nrownames                              \n2            DMY1F         0         0\n3           DH605F         0         0\n4            PHHJC         0         0\n5            PH4CV         0         0\n6         ZMN01635         0         0\n...            ...       ...       ...\n2537      D2284159  ZMN01648  ZMN00735\n2559      D2284296  ZMN01705  ZMN00735\n2680      D2284308  ZMN01707  ZMN00735\n27721     D2284109  ZMN01638  ZMN00735\n35432     D2284180  ZMN01655  ZMN00735\n\n[10310 rows x 3 columns]",
      "text/html": "<div>\n<style scoped>\n    .dataframe tbody tr th:only-of-type {\n        vertical-align: middle;\n    }\n\n    .dataframe tbody tr th {\n        vertical-align: top;\n    }\n\n    .dataframe thead th {\n        text-align: right;\n    }\n</style>\n<table border=\"1\" class=\"dataframe\">\n  <thead>\n    <tr style=\"text-align: right;\">\n      <th></th>\n      <th>Name</th>\n      <th>FGenoID</th>\n      <th>MGenoID</th>\n    </tr>\n    <tr>\n      <th>rownames</th>\n      <th></th>\n      <th></th>\n      <th></th>\n    </tr>\n  </thead>\n  <tbody>\n    <tr>\n      <th>2</th>\n      <td>DMY1F</td>\n      <td>0</td>\n      <td>0</td>\n    </tr>\n    <tr>\n      <th>3</th>\n      <td>DH605F</td>\n      <td>0</td>\n      <td>0</td>\n    </tr>\n    <tr>\n      <th>4</th>\n      <td>PHHJC</td>\n      <td>0</td>\n      <td>0</td>\n    </tr>\n    <tr>\n      <th>5</th>\n      <td>PH4CV</td>\n      <td>0</td>\n      <td>0</td>\n    </tr>\n    <tr>\n      <th>6</th>\n      <td>ZMN01635</td>\n      <td>0</td>\n      <td>0</td>\n    </tr>\n    <tr>\n      <th>...</th>\n      <td>...</td>\n      <td>...</td>\n      <td>...</td>\n    </tr>\n    <tr>\n      <th>2537</th>\n      <td>D2284159</td>\n      <td>ZMN01648</td>\n      <td>ZMN00735</td>\n    </tr>\n    <tr>\n      <th>2559</th>\n      <td>D2284296</td>\n      <td>ZMN01705</td>\n      <td>ZMN00735</td>\n    </tr>\n    <tr>\n      <th>2680</th>\n      <td>D2284308</td>\n      <td>ZMN01707</td>\n      <td>ZMN00735</td>\n    </tr>\n    <tr>\n      <th>27721</th>\n      <td>D2284109</td>\n      <td>ZMN01638</td>\n      <td>ZMN00735</td>\n    </tr>\n    <tr>\n      <th>35432</th>\n      <td>D2284180</td>\n      <td>ZMN01655</td>\n      <td>ZMN00735</td>\n    </tr>\n  </tbody>\n</table>\n<p>10310 rows × 3 columns</p>\n</div>"
     },
     "execution_count": 31,
     "metadata": {},
     "output_type": "execute_result"
    }
   ],
   "source": [
    "ped_df"
   ],
   "metadata": {
    "collapsed": false,
    "ExecuteTime": {
     "end_time": "2024-03-26T06:41:30.007435900Z",
     "start_time": "2024-03-26T06:41:29.995886600Z"
    }
   },
   "id": "3300b0df5fd114d0",
   "execution_count": 31
  },
  {
   "cell_type": "code",
   "outputs": [
    {
     "name": "stdout",
     "output_type": "stream",
     "text": [
      "Pedigree  order (P2): Individual \"WG603\" moved to record 1\n",
      "Pedigree  order (P1): Individual \"PH4CV\" moved to record 1\n",
      "Pedigree  order (P2): Individual \"WG5603\" moved to record 2\n"
     ]
    }
   ],
   "source": [
    "# Convert factors as in your R code\n",
    "ro.r('''\n",
    "ainv <- asreml::ainverse(ped)\n",
    "blue$Name <- as.factor(blue$Name)\n",
    "blue <- merge(blue, ped, by = \"Name\")\n",
    "asr2 <- asreml::asreml(predicted.value ~ 1,\n",
    "                       random = ~ vm(Name, ainv),\n",
    "                       residual = ~ idv(units),\n",
    "                       data = blue)\n",
    "''')\n",
    "\n",
    "# To extract results from the asr2 model in R to Python\n",
    "varcomp = ro.r('summary(asr2)$varcomp')\n",
    "g = ro.r('coef(asr2)$random')\n",
    "\n"
   ],
   "metadata": {
    "collapsed": false,
    "ExecuteTime": {
     "end_time": "2024-03-26T06:41:30.341690500Z",
     "start_time": "2024-03-26T06:41:30.005436100Z"
    }
   },
   "id": "47f01cf2234a3eb8",
   "execution_count": 32
  },
  {
   "cell_type": "code",
   "outputs": [
    {
     "data": {
      "text/plain": "                             Name      Value\nvm(Name, ainv)_PH4CV        PH4CV   0.000000\nvm(Name, ainv)_WG5603      WG5603   0.000000\nvm(Name, ainv)_WG603        WG603   0.000000\nvm(Name, ainv)_DMY1F        DMY1F   0.000000\nvm(Name, ainv)_DH605F      DH605F -23.800054\n...                           ...        ...\nvm(Name, ainv)_D2284159  D2284159  16.686925\nvm(Name, ainv)_D2284296  D2284296  14.130782\nvm(Name, ainv)_D2284308  D2284308  16.686925\nvm(Name, ainv)_D2284109  D2284109  16.201840\nvm(Name, ainv)_D2284180  D2284180  16.686925\n\n[10310 rows x 2 columns]",
      "text/html": "<div>\n<style scoped>\n    .dataframe tbody tr th:only-of-type {\n        vertical-align: middle;\n    }\n\n    .dataframe tbody tr th {\n        vertical-align: top;\n    }\n\n    .dataframe thead th {\n        text-align: right;\n    }\n</style>\n<table border=\"1\" class=\"dataframe\">\n  <thead>\n    <tr style=\"text-align: right;\">\n      <th></th>\n      <th>Name</th>\n      <th>Value</th>\n    </tr>\n  </thead>\n  <tbody>\n    <tr>\n      <th>vm(Name, ainv)_PH4CV</th>\n      <td>PH4CV</td>\n      <td>0.000000</td>\n    </tr>\n    <tr>\n      <th>vm(Name, ainv)_WG5603</th>\n      <td>WG5603</td>\n      <td>0.000000</td>\n    </tr>\n    <tr>\n      <th>vm(Name, ainv)_WG603</th>\n      <td>WG603</td>\n      <td>0.000000</td>\n    </tr>\n    <tr>\n      <th>vm(Name, ainv)_DMY1F</th>\n      <td>DMY1F</td>\n      <td>0.000000</td>\n    </tr>\n    <tr>\n      <th>vm(Name, ainv)_DH605F</th>\n      <td>DH605F</td>\n      <td>-23.800054</td>\n    </tr>\n    <tr>\n      <th>...</th>\n      <td>...</td>\n      <td>...</td>\n    </tr>\n    <tr>\n      <th>vm(Name, ainv)_D2284159</th>\n      <td>D2284159</td>\n      <td>16.686925</td>\n    </tr>\n    <tr>\n      <th>vm(Name, ainv)_D2284296</th>\n      <td>D2284296</td>\n      <td>14.130782</td>\n    </tr>\n    <tr>\n      <th>vm(Name, ainv)_D2284308</th>\n      <td>D2284308</td>\n      <td>16.686925</td>\n    </tr>\n    <tr>\n      <th>vm(Name, ainv)_D2284109</th>\n      <td>D2284109</td>\n      <td>16.201840</td>\n    </tr>\n    <tr>\n      <th>vm(Name, ainv)_D2284180</th>\n      <td>D2284180</td>\n      <td>16.686925</td>\n    </tr>\n  </tbody>\n</table>\n<p>10310 rows × 2 columns</p>\n</div>"
     },
     "execution_count": 33,
     "metadata": {},
     "output_type": "execute_result"
    }
   ],
   "source": [
    "# Converting R objects back to pandas DataFrames or numpy arrays if needed\n",
    "import pandas as pd\n",
    "# Extract row names from the R object\n",
    "g_row_names = ro.r('rownames(coef(asr2)$random)')\n",
    "\n",
    "\n",
    "g_df = pd.DataFrame(g)\n",
    "\n",
    "# Convert the row names to a Python list\n",
    "g_row_names_py = list(g_row_names)\n",
    "\n",
    "# Assign the row names to the pandas DataFrame index\n",
    "g_df.index = g_row_names_py\n",
    "g_df['Name'] = [name.split('_')[1] for name in g_df.index]\n",
    "\n",
    "g_df.columns = ['Value', 'Name']\n",
    "g_df = g_df[['Name', 'Value']]\n",
    "g_df"
   ],
   "metadata": {
    "collapsed": false,
    "ExecuteTime": {
     "end_time": "2024-03-26T06:41:30.398371500Z",
     "start_time": "2024-03-26T06:41:30.340685100Z"
    }
   },
   "id": "386282876cd5ef83",
   "execution_count": 33
  },
  {
   "cell_type": "code",
   "outputs": [
    {
     "name": "stdout",
     "output_type": "stream",
     "text": [
      "Pedigree  order (P2): Individual \"WG603\" moved to record 1\n",
      "Pedigree  order (P1): Individual \"PH4CV\" moved to record 1\n",
      "Pedigree  order (P2): Individual \"WG5603\" moved to record 2\n"
     ]
    },
    {
     "data": {
      "text/plain": "                             Name      Value\nvm(Name, ainv)_PH4CV        PH4CV   0.000000\nvm(Name, ainv)_WG5603      WG5603   0.000000\nvm(Name, ainv)_WG603        WG603   0.000000\nvm(Name, ainv)_DMY1F        DMY1F   0.000000\nvm(Name, ainv)_DH605F      DH605F -23.800054\n...                           ...        ...\nvm(Name, ainv)_D2284159  D2284159  16.686925\nvm(Name, ainv)_D2284296  D2284296  14.130782\nvm(Name, ainv)_D2284308  D2284308  16.686925\nvm(Name, ainv)_D2284109  D2284109  16.201840\nvm(Name, ainv)_D2284180  D2284180  16.686925\n\n[10310 rows x 2 columns]",
      "text/html": "<div>\n<style scoped>\n    .dataframe tbody tr th:only-of-type {\n        vertical-align: middle;\n    }\n\n    .dataframe tbody tr th {\n        vertical-align: top;\n    }\n\n    .dataframe thead th {\n        text-align: right;\n    }\n</style>\n<table border=\"1\" class=\"dataframe\">\n  <thead>\n    <tr style=\"text-align: right;\">\n      <th></th>\n      <th>Name</th>\n      <th>Value</th>\n    </tr>\n  </thead>\n  <tbody>\n    <tr>\n      <th>vm(Name, ainv)_PH4CV</th>\n      <td>PH4CV</td>\n      <td>0.000000</td>\n    </tr>\n    <tr>\n      <th>vm(Name, ainv)_WG5603</th>\n      <td>WG5603</td>\n      <td>0.000000</td>\n    </tr>\n    <tr>\n      <th>vm(Name, ainv)_WG603</th>\n      <td>WG603</td>\n      <td>0.000000</td>\n    </tr>\n    <tr>\n      <th>vm(Name, ainv)_DMY1F</th>\n      <td>DMY1F</td>\n      <td>0.000000</td>\n    </tr>\n    <tr>\n      <th>vm(Name, ainv)_DH605F</th>\n      <td>DH605F</td>\n      <td>-23.800054</td>\n    </tr>\n    <tr>\n      <th>...</th>\n      <td>...</td>\n      <td>...</td>\n    </tr>\n    <tr>\n      <th>vm(Name, ainv)_D2284159</th>\n      <td>D2284159</td>\n      <td>16.686925</td>\n    </tr>\n    <tr>\n      <th>vm(Name, ainv)_D2284296</th>\n      <td>D2284296</td>\n      <td>14.130782</td>\n    </tr>\n    <tr>\n      <th>vm(Name, ainv)_D2284308</th>\n      <td>D2284308</td>\n      <td>16.686925</td>\n    </tr>\n    <tr>\n      <th>vm(Name, ainv)_D2284109</th>\n      <td>D2284109</td>\n      <td>16.201840</td>\n    </tr>\n    <tr>\n      <th>vm(Name, ainv)_D2284180</th>\n      <td>D2284180</td>\n      <td>16.686925</td>\n    </tr>\n  </tbody>\n</table>\n<p>10310 rows × 2 columns</p>\n</div>"
     },
     "execution_count": 34,
     "metadata": {},
     "output_type": "execute_result"
    }
   ],
   "source": [
    "import gblup\n",
    "gblup.run_asreml_ped_gblup(ped_df,blue_df)"
   ],
   "metadata": {
    "collapsed": false,
    "ExecuteTime": {
     "end_time": "2024-03-26T06:41:30.876737300Z",
     "start_time": "2024-03-26T06:41:30.398371500Z"
    }
   },
   "id": "d30dc3ae150a2065",
   "execution_count": 34
  },
  {
   "cell_type": "code",
   "outputs": [
    {
     "data": {
      "text/plain": "          marker_1  marker_2  marker_3  marker_4  marker_5  marker_6  \\\nIID_1            1         2         0         0         1         2   \nIID_2            2         0         0         2         0         2   \nIID_3            2         2         1         2         0         0   \nIID_4            0         1         0         0         0         1   \nIID_5            0         2         1         2         1         2   \n...            ...       ...       ...       ...       ...       ...   \nIID_5996         1         1         1         1         2         1   \nIID_5997         1         1         2         2         0         1   \nIID_5998         2         2         1         0         2         1   \nIID_5999         2         2         1         2         0         0   \nIID_6000         2         2         1         0         2         2   \n\n          marker_7  marker_8  marker_9  marker_10  ...  marker_8357  \\\nIID_1            1         2         0          1  ...            0   \nIID_2            1         1         2          1  ...            2   \nIID_3            1         2         1          0  ...            0   \nIID_4            0         1         0          1  ...            2   \nIID_5            0         2         0          2  ...            1   \n...            ...       ...       ...        ...  ...          ...   \nIID_5996         0         1         0          2  ...            2   \nIID_5997         1         1         2          0  ...            0   \nIID_5998         1         1         1          1  ...            2   \nIID_5999         1         0         0          0  ...            0   \nIID_6000         0         1         1          0  ...            2   \n\n          marker_8358  marker_8359  marker_8360  marker_8361  marker_8362  \\\nIID_1               2            0            0            0            1   \nIID_2               2            2            0            2            1   \nIID_3               2            1            1            0            0   \nIID_4               2            0            0            2            1   \nIID_5               0            2            1            1            2   \n...               ...          ...          ...          ...          ...   \nIID_5996            1            1            0            1            2   \nIID_5997            1            2            0            1            0   \nIID_5998            0            1            2            0            2   \nIID_5999            2            1            0            1            0   \nIID_6000            1            0            1            0            1   \n\n          marker_8363  marker_8364  marker_8365  marker_8366  \nIID_1               0            2            1            2  \nIID_2               2            0            2            1  \nIID_3               1            2            0            1  \nIID_4               1            1            1            0  \nIID_5               1            2            1            0  \n...               ...          ...          ...          ...  \nIID_5996            0            2            1            1  \nIID_5997            2            1            1            2  \nIID_5998            0            2            1            1  \nIID_5999            1            1            2            2  \nIID_6000            2            2            2            0  \n\n[6000 rows x 8366 columns]",
      "text/html": "<div>\n<style scoped>\n    .dataframe tbody tr th:only-of-type {\n        vertical-align: middle;\n    }\n\n    .dataframe tbody tr th {\n        vertical-align: top;\n    }\n\n    .dataframe thead th {\n        text-align: right;\n    }\n</style>\n<table border=\"1\" class=\"dataframe\">\n  <thead>\n    <tr style=\"text-align: right;\">\n      <th></th>\n      <th>marker_1</th>\n      <th>marker_2</th>\n      <th>marker_3</th>\n      <th>marker_4</th>\n      <th>marker_5</th>\n      <th>marker_6</th>\n      <th>marker_7</th>\n      <th>marker_8</th>\n      <th>marker_9</th>\n      <th>marker_10</th>\n      <th>...</th>\n      <th>marker_8357</th>\n      <th>marker_8358</th>\n      <th>marker_8359</th>\n      <th>marker_8360</th>\n      <th>marker_8361</th>\n      <th>marker_8362</th>\n      <th>marker_8363</th>\n      <th>marker_8364</th>\n      <th>marker_8365</th>\n      <th>marker_8366</th>\n    </tr>\n  </thead>\n  <tbody>\n    <tr>\n      <th>IID_1</th>\n      <td>1</td>\n      <td>2</td>\n      <td>0</td>\n      <td>0</td>\n      <td>1</td>\n      <td>2</td>\n      <td>1</td>\n      <td>2</td>\n      <td>0</td>\n      <td>1</td>\n      <td>...</td>\n      <td>0</td>\n      <td>2</td>\n      <td>0</td>\n      <td>0</td>\n      <td>0</td>\n      <td>1</td>\n      <td>0</td>\n      <td>2</td>\n      <td>1</td>\n      <td>2</td>\n    </tr>\n    <tr>\n      <th>IID_2</th>\n      <td>2</td>\n      <td>0</td>\n      <td>0</td>\n      <td>2</td>\n      <td>0</td>\n      <td>2</td>\n      <td>1</td>\n      <td>1</td>\n      <td>2</td>\n      <td>1</td>\n      <td>...</td>\n      <td>2</td>\n      <td>2</td>\n      <td>2</td>\n      <td>0</td>\n      <td>2</td>\n      <td>1</td>\n      <td>2</td>\n      <td>0</td>\n      <td>2</td>\n      <td>1</td>\n    </tr>\n    <tr>\n      <th>IID_3</th>\n      <td>2</td>\n      <td>2</td>\n      <td>1</td>\n      <td>2</td>\n      <td>0</td>\n      <td>0</td>\n      <td>1</td>\n      <td>2</td>\n      <td>1</td>\n      <td>0</td>\n      <td>...</td>\n      <td>0</td>\n      <td>2</td>\n      <td>1</td>\n      <td>1</td>\n      <td>0</td>\n      <td>0</td>\n      <td>1</td>\n      <td>2</td>\n      <td>0</td>\n      <td>1</td>\n    </tr>\n    <tr>\n      <th>IID_4</th>\n      <td>0</td>\n      <td>1</td>\n      <td>0</td>\n      <td>0</td>\n      <td>0</td>\n      <td>1</td>\n      <td>0</td>\n      <td>1</td>\n      <td>0</td>\n      <td>1</td>\n      <td>...</td>\n      <td>2</td>\n      <td>2</td>\n      <td>0</td>\n      <td>0</td>\n      <td>2</td>\n      <td>1</td>\n      <td>1</td>\n      <td>1</td>\n      <td>1</td>\n      <td>0</td>\n    </tr>\n    <tr>\n      <th>IID_5</th>\n      <td>0</td>\n      <td>2</td>\n      <td>1</td>\n      <td>2</td>\n      <td>1</td>\n      <td>2</td>\n      <td>0</td>\n      <td>2</td>\n      <td>0</td>\n      <td>2</td>\n      <td>...</td>\n      <td>1</td>\n      <td>0</td>\n      <td>2</td>\n      <td>1</td>\n      <td>1</td>\n      <td>2</td>\n      <td>1</td>\n      <td>2</td>\n      <td>1</td>\n      <td>0</td>\n    </tr>\n    <tr>\n      <th>...</th>\n      <td>...</td>\n      <td>...</td>\n      <td>...</td>\n      <td>...</td>\n      <td>...</td>\n      <td>...</td>\n      <td>...</td>\n      <td>...</td>\n      <td>...</td>\n      <td>...</td>\n      <td>...</td>\n      <td>...</td>\n      <td>...</td>\n      <td>...</td>\n      <td>...</td>\n      <td>...</td>\n      <td>...</td>\n      <td>...</td>\n      <td>...</td>\n      <td>...</td>\n      <td>...</td>\n    </tr>\n    <tr>\n      <th>IID_5996</th>\n      <td>1</td>\n      <td>1</td>\n      <td>1</td>\n      <td>1</td>\n      <td>2</td>\n      <td>1</td>\n      <td>0</td>\n      <td>1</td>\n      <td>0</td>\n      <td>2</td>\n      <td>...</td>\n      <td>2</td>\n      <td>1</td>\n      <td>1</td>\n      <td>0</td>\n      <td>1</td>\n      <td>2</td>\n      <td>0</td>\n      <td>2</td>\n      <td>1</td>\n      <td>1</td>\n    </tr>\n    <tr>\n      <th>IID_5997</th>\n      <td>1</td>\n      <td>1</td>\n      <td>2</td>\n      <td>2</td>\n      <td>0</td>\n      <td>1</td>\n      <td>1</td>\n      <td>1</td>\n      <td>2</td>\n      <td>0</td>\n      <td>...</td>\n      <td>0</td>\n      <td>1</td>\n      <td>2</td>\n      <td>0</td>\n      <td>1</td>\n      <td>0</td>\n      <td>2</td>\n      <td>1</td>\n      <td>1</td>\n      <td>2</td>\n    </tr>\n    <tr>\n      <th>IID_5998</th>\n      <td>2</td>\n      <td>2</td>\n      <td>1</td>\n      <td>0</td>\n      <td>2</td>\n      <td>1</td>\n      <td>1</td>\n      <td>1</td>\n      <td>1</td>\n      <td>1</td>\n      <td>...</td>\n      <td>2</td>\n      <td>0</td>\n      <td>1</td>\n      <td>2</td>\n      <td>0</td>\n      <td>2</td>\n      <td>0</td>\n      <td>2</td>\n      <td>1</td>\n      <td>1</td>\n    </tr>\n    <tr>\n      <th>IID_5999</th>\n      <td>2</td>\n      <td>2</td>\n      <td>1</td>\n      <td>2</td>\n      <td>0</td>\n      <td>0</td>\n      <td>1</td>\n      <td>0</td>\n      <td>0</td>\n      <td>0</td>\n      <td>...</td>\n      <td>0</td>\n      <td>2</td>\n      <td>1</td>\n      <td>0</td>\n      <td>1</td>\n      <td>0</td>\n      <td>1</td>\n      <td>1</td>\n      <td>2</td>\n      <td>2</td>\n    </tr>\n    <tr>\n      <th>IID_6000</th>\n      <td>2</td>\n      <td>2</td>\n      <td>1</td>\n      <td>0</td>\n      <td>2</td>\n      <td>2</td>\n      <td>0</td>\n      <td>1</td>\n      <td>1</td>\n      <td>0</td>\n      <td>...</td>\n      <td>2</td>\n      <td>1</td>\n      <td>0</td>\n      <td>1</td>\n      <td>0</td>\n      <td>1</td>\n      <td>2</td>\n      <td>2</td>\n      <td>2</td>\n      <td>0</td>\n    </tr>\n  </tbody>\n</table>\n<p>6000 rows × 8366 columns</p>\n</div>"
     },
     "execution_count": 35,
     "metadata": {},
     "output_type": "execute_result"
    }
   ],
   "source": [
    "import  numpy as np\n",
    "G_matrix = np.random.randint(0, 3, size=(6000, 8366))\n",
    "\n",
    "# Convert the numpy matrix to a pandas DataFrame for easier manipulation and visualization\n",
    "G_matrix = pd.DataFrame(G_matrix)\n",
    "\n",
    "# Optionally, name the columns and index\n",
    "G_matrix.columns = [f\"marker_{i+1}\" for i in range(G_matrix.shape[1])]\n",
    "G_matrix.index = [f\"IID_{i+1}\" for i in range(G_matrix.shape[0])]\n",
    "G_matrix"
   ],
   "metadata": {
    "collapsed": false,
    "ExecuteTime": {
     "end_time": "2024-03-26T06:41:31.387574600Z",
     "start_time": "2024-03-26T06:41:30.872935500Z"
    }
   },
   "id": "1c5098ff572f68de",
   "execution_count": 35
  },
  {
   "cell_type": "code",
   "outputs": [
    {
     "data": {
      "text/plain": "       marker_1  marker_2  marker_3  marker_4  marker_5  marker_6  marker_7  \\\nIID_1         1         2         0         0         1         2         1   \nIID_2         2         0         0         2         0         2         1   \nIID_3         2         2         1         2         0         0         1   \nIID_4         0         1         0         0         0         1         0   \nIID_5         0         2         1         2         1         2         0   \nIID_6         0         0         1         0         0         2         0   \n\n       marker_8  marker_9  marker_10  ...  marker_8357  marker_8358  \\\nIID_1         2         0          1  ...            0            2   \nIID_2         1         2          1  ...            2            2   \nIID_3         2         1          0  ...            0            2   \nIID_4         1         0          1  ...            2            2   \nIID_5         2         0          2  ...            1            0   \nIID_6         0         2          1  ...            2            1   \n\n       marker_8359  marker_8360  marker_8361  marker_8362  marker_8363  \\\nIID_1            0            0            0            1            0   \nIID_2            2            0            2            1            2   \nIID_3            1            1            0            0            1   \nIID_4            0            0            2            1            1   \nIID_5            2            1            1            2            1   \nIID_6            0            2            1            0            0   \n\n       marker_8364  marker_8365  marker_8366  \nIID_1            2            1            2  \nIID_2            0            2            1  \nIID_3            2            0            1  \nIID_4            1            1            0  \nIID_5            2            1            0  \nIID_6            1            0            2  \n\n[6 rows x 8366 columns]",
      "text/html": "<div>\n<style scoped>\n    .dataframe tbody tr th:only-of-type {\n        vertical-align: middle;\n    }\n\n    .dataframe tbody tr th {\n        vertical-align: top;\n    }\n\n    .dataframe thead th {\n        text-align: right;\n    }\n</style>\n<table border=\"1\" class=\"dataframe\">\n  <thead>\n    <tr style=\"text-align: right;\">\n      <th></th>\n      <th>marker_1</th>\n      <th>marker_2</th>\n      <th>marker_3</th>\n      <th>marker_4</th>\n      <th>marker_5</th>\n      <th>marker_6</th>\n      <th>marker_7</th>\n      <th>marker_8</th>\n      <th>marker_9</th>\n      <th>marker_10</th>\n      <th>...</th>\n      <th>marker_8357</th>\n      <th>marker_8358</th>\n      <th>marker_8359</th>\n      <th>marker_8360</th>\n      <th>marker_8361</th>\n      <th>marker_8362</th>\n      <th>marker_8363</th>\n      <th>marker_8364</th>\n      <th>marker_8365</th>\n      <th>marker_8366</th>\n    </tr>\n  </thead>\n  <tbody>\n    <tr>\n      <th>IID_1</th>\n      <td>1</td>\n      <td>2</td>\n      <td>0</td>\n      <td>0</td>\n      <td>1</td>\n      <td>2</td>\n      <td>1</td>\n      <td>2</td>\n      <td>0</td>\n      <td>1</td>\n      <td>...</td>\n      <td>0</td>\n      <td>2</td>\n      <td>0</td>\n      <td>0</td>\n      <td>0</td>\n      <td>1</td>\n      <td>0</td>\n      <td>2</td>\n      <td>1</td>\n      <td>2</td>\n    </tr>\n    <tr>\n      <th>IID_2</th>\n      <td>2</td>\n      <td>0</td>\n      <td>0</td>\n      <td>2</td>\n      <td>0</td>\n      <td>2</td>\n      <td>1</td>\n      <td>1</td>\n      <td>2</td>\n      <td>1</td>\n      <td>...</td>\n      <td>2</td>\n      <td>2</td>\n      <td>2</td>\n      <td>0</td>\n      <td>2</td>\n      <td>1</td>\n      <td>2</td>\n      <td>0</td>\n      <td>2</td>\n      <td>1</td>\n    </tr>\n    <tr>\n      <th>IID_3</th>\n      <td>2</td>\n      <td>2</td>\n      <td>1</td>\n      <td>2</td>\n      <td>0</td>\n      <td>0</td>\n      <td>1</td>\n      <td>2</td>\n      <td>1</td>\n      <td>0</td>\n      <td>...</td>\n      <td>0</td>\n      <td>2</td>\n      <td>1</td>\n      <td>1</td>\n      <td>0</td>\n      <td>0</td>\n      <td>1</td>\n      <td>2</td>\n      <td>0</td>\n      <td>1</td>\n    </tr>\n    <tr>\n      <th>IID_4</th>\n      <td>0</td>\n      <td>1</td>\n      <td>0</td>\n      <td>0</td>\n      <td>0</td>\n      <td>1</td>\n      <td>0</td>\n      <td>1</td>\n      <td>0</td>\n      <td>1</td>\n      <td>...</td>\n      <td>2</td>\n      <td>2</td>\n      <td>0</td>\n      <td>0</td>\n      <td>2</td>\n      <td>1</td>\n      <td>1</td>\n      <td>1</td>\n      <td>1</td>\n      <td>0</td>\n    </tr>\n    <tr>\n      <th>IID_5</th>\n      <td>0</td>\n      <td>2</td>\n      <td>1</td>\n      <td>2</td>\n      <td>1</td>\n      <td>2</td>\n      <td>0</td>\n      <td>2</td>\n      <td>0</td>\n      <td>2</td>\n      <td>...</td>\n      <td>1</td>\n      <td>0</td>\n      <td>2</td>\n      <td>1</td>\n      <td>1</td>\n      <td>2</td>\n      <td>1</td>\n      <td>2</td>\n      <td>1</td>\n      <td>0</td>\n    </tr>\n    <tr>\n      <th>IID_6</th>\n      <td>0</td>\n      <td>0</td>\n      <td>1</td>\n      <td>0</td>\n      <td>0</td>\n      <td>2</td>\n      <td>0</td>\n      <td>0</td>\n      <td>2</td>\n      <td>1</td>\n      <td>...</td>\n      <td>2</td>\n      <td>1</td>\n      <td>0</td>\n      <td>2</td>\n      <td>1</td>\n      <td>0</td>\n      <td>0</td>\n      <td>1</td>\n      <td>0</td>\n      <td>2</td>\n    </tr>\n  </tbody>\n</table>\n<p>6 rows × 8366 columns</p>\n</div>"
     },
     "execution_count": 36,
     "metadata": {},
     "output_type": "execute_result"
    }
   ],
   "source": [
    "# Pass the adjusted DataFrame into the R environment\n",
    "ro.globalenv['G_matrix'] = pandas2ri.py2rpy(G_matrix)\n",
    "\n",
    "# Verify by printing the first few rows in R\n",
    "# Ensure that the dimnames (row and column names) are correctly set in R\n",
    "ro.r('''\n",
    "dimnames(G_matrix) <- list(rownames(G_matrix), colnames(G_matrix))\n",
    "''')\n",
    "\n",
    "ro.r('head(G_matrix)')"
   ],
   "metadata": {
    "collapsed": false,
    "ExecuteTime": {
     "end_time": "2024-03-26T06:43:09.773274800Z",
     "start_time": "2024-03-26T06:41:31.387574600Z"
    }
   },
   "id": "e025ceac8fe61ecf",
   "execution_count": 36
  },
  {
   "cell_type": "code",
   "outputs": [],
   "source": [
    "blue_df = pd.DataFrame({\n",
    "    \"Name\": [\"IID_3\", \"IID_4\", \"IID_5\"],\n",
    "    \"Value\": [2.4, 2.4, 5.3]\n",
    "})\n",
    "\n"
   ],
   "metadata": {
    "collapsed": false,
    "ExecuteTime": {
     "end_time": "2024-03-26T06:43:09.775274500Z",
     "start_time": "2024-03-26T06:43:09.761671300Z"
    }
   },
   "id": "8a0429505eafc8d6",
   "execution_count": 37
  },
  {
   "cell_type": "code",
   "outputs": [
    {
     "name": "stdout",
     "output_type": "stream",
     "text": [
      "Initial data: \n",
      "\tNumber of Individuals: 6000 \n",
      "\tNumber of Markers: 8366 \n",
      "\n",
      "Missing data check: \n",
      "\tTotal SNPs: 8366 \n",
      "\t 0 SNPs dropped due to missing data threshold of 0.5 \n",
      "\tTotal of: 8366  SNPs \n",
      "\n",
      "MAF check: \n",
      "\tNo SNPs with MAF below 0 \n",
      "\n",
      "Heterozigosity data check: \n",
      "\tNo SNPs with heterozygosity, missing threshold of =  0 \n",
      "\n",
      "Summary check: \n",
      "\tInitial:  8366 SNPs \n",
      "\tFinal:  8366  SNPs ( 0  SNPs removed) \n",
      " \n",
      "Completed! Time = 470.51  seconds \n"
     ]
    },
    {
     "name": "stderr",
     "output_type": "stream",
     "text": [
      "R[write to console]: Reciprocal conditional number for original matrix is: 5.75725494224797e-05\n",
      "\n",
      "R[write to console]: Reciprocal conditional number for inverted matrix is: 5.43301590950856e-05\n",
      "\n",
      "R[write to console]: Inverse of matrix G does not appear to be ill-conditioned.\n",
      "\n"
     ]
    }
   ],
   "source": [
    "ro.globalenv['G_matrix'] = pandas2ri.py2rpy(G_matrix)\n",
    "\n",
    "# Verify by printing the first few rows in R\n",
    "# Ensure that the dimnames (row and column names) are correctly set in R\n",
    "ro.r('''\n",
    "dimnames(G_matrix) <- list(rownames(G_matrix), colnames(G_matrix))\n",
    "''')\n",
    "\n",
    "ro.globalenv['blue'] = pandas2ri.py2rpy(blue_df)\n",
    "#ro.r('rownames(blue)')\n",
    "ro.r('''\n",
    "library(asreml)\n",
    "library(ASRgenomics)\n",
    "library(tidyverse)\n",
    "G_matrix <- as.matrix(G_matrix)\n",
    "Gmat = G.matrix(G_matrix)$G\n",
    "rownames(Gmat) <- rownames(G_matrix)\n",
    "colnames(Gmat) <- rownames(G_matrix)\n",
    "diag(Gmat) = diag(Gmat) + 0.01\n",
    "ginv = G.inverse(Gmat,sparseform = T)\n",
    "ginv = ginv$Ginv.sparse\n",
    "\n",
    "attr(ginv,\"rowNames\") %>% head\n",
    "\n",
    "blue$Name <- as.factor(blue$Name)\n",
    "\n",
    "\n",
    "asr2 <- asreml(Value ~ 1,\n",
    "               random = ~ vm(Name,ginv), \n",
    "               residual = ~idv(units),\n",
    "               data = blue)\n",
    "summary(asr2)$varcomp\n",
    "\n",
    "''')\n",
    "g = ro.r('coef(asr2)$random')\n",
    "\n",
    "g_row_names = ro.r('rownames(coef(asr2)$random)')\n",
    "\n",
    "g_df = pd.DataFrame(g)\n",
    "\n",
    "# Convert the row names to a Python list\n",
    "g_row_names_py = list(g_row_names)\n",
    "\n",
    "# Assign the row names to the pandas DataFrame index\n",
    "g_df.index = g_row_names_py\n",
    "g_df['Name'] = [name.split('_')[1:] for name in g_df.index]\n",
    "g_df.columns = ['Value', 'Name']\n",
    "g_df = g_df[['Name', 'Value']]"
   ],
   "metadata": {
    "collapsed": false,
    "is_executing": true,
    "ExecuteTime": {
     "start_time": "2024-03-26T06:43:09.772278600Z"
    }
   },
   "id": "21d78c7525765a4b",
   "execution_count": null
  },
  {
   "cell_type": "code",
   "outputs": [],
   "source": [
    "g_df"
   ],
   "metadata": {
    "collapsed": false,
    "is_executing": true
   },
   "id": "7acf3d154cb5052c",
   "execution_count": null
  },
  {
   "cell_type": "code",
   "outputs": [],
   "source": [
    "import gblup\n",
    "g_gblup = gblup.run_asreml_G_gblup(G_matrix,blue_df)\n",
    "g_gblup"
   ],
   "metadata": {
    "collapsed": false,
    "is_executing": true
   },
   "id": "4a3a8a5a537bdd5f",
   "execution_count": null
  }
 ],
 "metadata": {
  "kernelspec": {
   "display_name": "Python 3",
   "language": "python",
   "name": "python3"
  },
  "language_info": {
   "codemirror_mode": {
    "name": "ipython",
    "version": 2
   },
   "file_extension": ".py",
   "mimetype": "text/x-python",
   "name": "python",
   "nbconvert_exporter": "python",
   "pygments_lexer": "ipython2",
   "version": "2.7.6"
  }
 },
 "nbformat": 4,
 "nbformat_minor": 5
}
