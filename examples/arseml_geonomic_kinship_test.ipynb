{
 "cells": [
  {
   "cell_type": "code",
   "execution_count": 5,
   "id": "initial_id",
   "metadata": {
    "collapsed": true,
    "ExecuteTime": {
     "end_time": "2024-03-26T01:25:28.301180100Z",
     "start_time": "2024-03-26T01:25:25.491502Z"
    }
   },
   "outputs": [
    {
     "name": "stdout",
     "output_type": "stream",
     "text": [
      "<class 'pandas.core.frame.DataFrame'>\n",
      "Index: 2763 entries, 112 to 2396\n",
      "Columns: 9642 entries, Genotype to 10_149535062_G\n",
      "dtypes: int64(9641), object(1)\n",
      "memory usage: 203.3+ MB\n",
      "None\n"
     ]
    }
   ],
   "source": [
    "import pandas as pd\n",
    "import numpy as np\n",
    "import time\n",
    "import rrBLUP as p_rrBlup\n",
    "from rpy2.robjects.packages import importr\n",
    "from rpy2.robjects import Formula as f\n",
    "from rpy2.robjects import pandas2ri\n",
    "import rpy2.robjects as ro\n",
    "pandas2ri.activate()\n",
    "rrBLUP = importr('rrBLUP')\n",
    "df_geno = pd.read_csv('data/23TC1_YLD14_SU_geno_final.txt', sep='\\t')\n",
    "df_geno = df_geno.sort_values(by=['Genotype'])\n",
    "print(df_geno.info())\n",
    "df_pheno = pd.read_csv(\"data/23TC1_YLD14_SU_pheno_final.txt\", sep='\\t')\n"
   ]
  },
  {
   "cell_type": "code",
   "outputs": [
    {
     "name": "stdout",
     "output_type": "stream",
     "text": [
      "<class 'pandas.core.frame.DataFrame'>\n",
      "Index: 2763 entries, 1929 to 179\n",
      "Data columns (total 2 columns):\n",
      " #   Column    Non-Null Count  Dtype  \n",
      "---  ------    --------------  -----  \n",
      " 0   Genotype  2763 non-null   object \n",
      " 1   YLD14_SU  2763 non-null   float64\n",
      "dtypes: float64(1), object(1)\n",
      "memory usage: 64.8+ KB\n",
      "None\n",
      "(2763, 9641)\n",
      "(2763, 1)\n"
     ]
    }
   ],
   "source": [
    "\n",
    "df_pheno_ordered = df_pheno.sort_values(by=['Genotype'])\n",
    "print(df_pheno_ordered.info())\n",
    "train_x = np.array(df_geno.drop('Genotype', axis=1))\n",
    "train_y = np.array(df_pheno_ordered['YLD14_SU']).reshape(-1, 1)\n",
    "train_x = train_x - 1\n",
    "print(train_x.shape)\n",
    "print(train_y.shape)"
   ],
   "metadata": {
    "collapsed": false,
    "ExecuteTime": {
     "end_time": "2024-03-26T01:25:28.446814900Z",
     "start_time": "2024-03-26T01:25:28.298414Z"
    }
   },
   "id": "4ea00660ee17a7da",
   "execution_count": 6
  },
  {
   "cell_type": "code",
   "outputs": [
    {
     "data": {
      "text/plain": "array([[ 0.96460593,  0.40092433,  0.25768902, ..., -0.30201703,\n        -0.23842051, -0.23847136],\n       [ 0.40092433,  0.81633067,  0.42894227, ..., -0.22019376,\n        -0.27356791, -0.27299987],\n       [ 0.25768902,  0.42894227,  0.75699359, ..., -0.24150724,\n        -0.2534156 , -0.25408534],\n       ...,\n       [-0.30201703, -0.22019376, -0.24150724, ...,  0.70114823,\n         0.31388157,  0.31383073],\n       [-0.23842051, -0.27356791, -0.2534156 , ...,  0.31388157,\n         0.89487222,  0.89420248],\n       [-0.23847136, -0.27299987, -0.25408534, ...,  0.31383073,\n         0.89420248,  0.89569887]])"
     },
     "execution_count": 7,
     "metadata": {},
     "output_type": "execute_result"
    }
   ],
   "source": [
    "a_1 = rrBLUP.A_mat(train_x)\n",
    "a_1"
   ],
   "metadata": {
    "collapsed": false,
    "ExecuteTime": {
     "end_time": "2024-03-26T01:26:14.165137100Z",
     "start_time": "2024-03-26T01:25:28.446814900Z"
    }
   },
   "id": "1f778cf653c205a5",
   "execution_count": 7
  },
  {
   "cell_type": "code",
   "outputs": [
    {
     "data": {
      "text/plain": "numpy.ndarray"
     },
     "execution_count": 8,
     "metadata": {},
     "output_type": "execute_result"
    }
   ],
   "source": [
    "type(a_1)"
   ],
   "metadata": {
    "collapsed": false,
    "ExecuteTime": {
     "end_time": "2024-03-26T01:26:14.178057500Z",
     "start_time": "2024-03-26T01:26:14.165137100Z"
    }
   },
   "id": "eb6e2174ae759be4",
   "execution_count": 8
  },
  {
   "cell_type": "code",
   "outputs": [],
   "source": [
    "import aMat\n",
    "a_2 = aMat.add_mat_numpy(train_x+1)"
   ],
   "metadata": {
    "collapsed": false,
    "ExecuteTime": {
     "end_time": "2024-03-26T01:26:15.714776700Z",
     "start_time": "2024-03-26T01:26:14.178057500Z"
    }
   },
   "id": "22084ea87f9364b1",
   "execution_count": 9
  },
  {
   "cell_type": "code",
   "outputs": [
    {
     "data": {
      "text/plain": "numpy.ndarray"
     },
     "execution_count": 10,
     "metadata": {},
     "output_type": "execute_result"
    }
   ],
   "source": [
    "import a_mat_jax\n",
    "import jax\n",
    "a_3 = a_mat_jax.add_mat_jax(train_x+1)\n",
    "a_3 = np.asarray(a_3)\n",
    "type(a_3)"
   ],
   "metadata": {
    "collapsed": false,
    "ExecuteTime": {
     "end_time": "2024-03-26T01:26:23.285849200Z",
     "start_time": "2024-03-26T01:26:15.721070900Z"
    }
   },
   "id": "1ed66c383a884e0e",
   "execution_count": 10
  },
  {
   "cell_type": "code",
   "outputs": [
    {
     "name": "stdout",
     "output_type": "stream",
     "text": [
      "Arrays are close: True\n"
     ]
    }
   ],
   "source": [
    "# Using allclose to compare\n",
    "close = np.allclose(a_2, a_3, rtol=0.00001, atol=0.00001)\n",
    "\n",
    "print(f\"Arrays are close: {close}\")"
   ],
   "metadata": {
    "collapsed": false,
    "ExecuteTime": {
     "end_time": "2024-03-26T01:26:23.456729100Z",
     "start_time": "2024-03-26T01:26:23.285849200Z"
    }
   },
   "id": "bdbcc53bb039085a",
   "execution_count": 11
  },
  {
   "cell_type": "code",
   "outputs": [
    {
     "name": "stdout",
     "output_type": "stream",
     "text": [
      "Running Time: 232.65 s\n"
     ]
    }
   ],
   "source": [
    "start_time = time.time()\n",
    "g_result = rrBLUP.mixed_solve(y = train_y, K = a_1)\n",
    "end_time = time.time()\n",
    "#print(g_result)\n",
    "print('Running Time: '+str(round(end_time-start_time, 2))+' s')\n",
    "#train_pred = g_result['u'] \n",
    "train_pred = np.array(g_result.rx2('u'))"
   ],
   "metadata": {
    "collapsed": false,
    "ExecuteTime": {
     "end_time": "2024-03-26T01:30:16.134754800Z",
     "start_time": "2024-03-26T01:26:23.456729100Z"
    }
   },
   "id": "d32dd35631566b26",
   "execution_count": 12
  },
  {
   "cell_type": "code",
   "outputs": [
    {
     "data": {
      "text/plain": "array([[689.5701105],\n       [615.9386355],\n       [661.3197776],\n       ...,\n       [692.8649345],\n       [709.3628695],\n       [684.4678623]])"
     },
     "execution_count": 13,
     "metadata": {},
     "output_type": "execute_result"
    }
   ],
   "source": [
    "train_y"
   ],
   "metadata": {
    "collapsed": false,
    "ExecuteTime": {
     "end_time": "2024-03-26T01:30:16.135764Z",
     "start_time": "2024-03-26T01:30:16.125907400Z"
    }
   },
   "id": "3d0c303c9230d183",
   "execution_count": 13
  },
  {
   "cell_type": "code",
   "outputs": [
    {
     "name": "stdout",
     "output_type": "stream",
     "text": [
      "{'Vu': 462.61305045468987, 'Ve': 974.0868459500658, 'beta': array([[703.72274814]]), 'u': array([[-17.59836984],\n",
      "       [-20.95136378],\n",
      "       [ -0.13633498],\n",
      "       ...,\n",
      "       [ -4.65200707],\n",
      "       [-20.01554518],\n",
      "       [-20.12818341]]), 'LL': -13572.19170879463}\n",
      "Running Time: 37.24 s\n"
     ]
    }
   ],
   "source": [
    "start_time = time.time()\n",
    "g_result = p_rrBlup.mixed_solve(y = train_y, K = a_2)\n",
    "end_time = time.time()\n",
    "print(g_result)\n",
    "print('Running Time: '+str(round(end_time-start_time, 2))+' s')\n",
    "#train_pred = g_result['u'] \n",
    "rrblup_u = g_result['u']"
   ],
   "metadata": {
    "collapsed": false,
    "ExecuteTime": {
     "end_time": "2024-03-26T01:30:53.386672Z",
     "start_time": "2024-03-26T01:30:16.135764Z"
    }
   },
   "id": "557f3d43c301ad45",
   "execution_count": 14
  },
  {
   "cell_type": "code",
   "outputs": [
    {
     "data": {
      "text/plain": "array([[-17.59836984],\n       [-20.95136378],\n       [ -0.13633498],\n       ...,\n       [ -4.65200707],\n       [-20.01554518],\n       [-20.12818341]])"
     },
     "execution_count": 15,
     "metadata": {},
     "output_type": "execute_result"
    }
   ],
   "source": [
    "rrblup_u"
   ],
   "metadata": {
    "collapsed": false,
    "ExecuteTime": {
     "end_time": "2024-03-26T01:30:53.404147700Z",
     "start_time": "2024-03-26T01:30:53.386672Z"
    }
   },
   "id": "2fdea088f03fd77",
   "execution_count": 15
  },
  {
   "cell_type": "code",
   "outputs": [
    {
     "ename": "TypeError",
     "evalue": "solve_mixed_gblup_model() got an unexpected keyword argument 'ainv'",
     "output_type": "error",
     "traceback": [
      "\u001B[1;31m---------------------------------------------------------------------------\u001B[0m",
      "\u001B[1;31mTypeError\u001B[0m                                 Traceback (most recent call last)",
      "Cell \u001B[1;32mIn[16], line 2\u001B[0m\n\u001B[0;32m      1\u001B[0m \u001B[38;5;28;01mimport\u001B[39;00m \u001B[38;5;21;01mgblup\u001B[39;00m\n\u001B[1;32m----> 2\u001B[0m g_result \u001B[38;5;241m=\u001B[39m \u001B[43mgblup\u001B[49m\u001B[38;5;241;43m.\u001B[39;49m\u001B[43msolve_mixed_gblup_model\u001B[49m\u001B[43m(\u001B[49m\u001B[43mn_obs\u001B[49m\u001B[38;5;241;43m=\u001B[39;49m\u001B[38;5;28;43mlen\u001B[39;49m\u001B[43m(\u001B[49m\u001B[43mtrain_y\u001B[49m\u001B[43m)\u001B[49m\u001B[43m,\u001B[49m\u001B[43m \u001B[49m\u001B[43mobs_ids\u001B[49m\u001B[38;5;241;43m=\u001B[39;49m\u001B[43m[\u001B[49m\u001B[43mi\u001B[49m\u001B[43m \u001B[49m\u001B[38;5;28;43;01mfor\u001B[39;49;00m\u001B[43m \u001B[49m\u001B[43mi\u001B[49m\u001B[43m \u001B[49m\u001B[38;5;129;43;01min\u001B[39;49;00m\u001B[43m \u001B[49m\u001B[38;5;28;43mrange\u001B[39;49m\u001B[43m(\u001B[49m\u001B[38;5;28;43mlen\u001B[39;49m\u001B[43m(\u001B[49m\u001B[43mtrain_y\u001B[49m\u001B[43m)\u001B[49m\u001B[43m)\u001B[49m\u001B[43m]\u001B[49m\u001B[43m,\u001B[49m\u001B[43m \u001B[49m\u001B[43my_values\u001B[49m\u001B[38;5;241;43m=\u001B[39;49m\u001B[43mtrain_y\u001B[49m\u001B[43m,\u001B[49m\u001B[43m \u001B[49m\u001B[43mainv\u001B[49m\u001B[38;5;241;43m=\u001B[39;49m\u001B[43mnp\u001B[49m\u001B[38;5;241;43m.\u001B[39;49m\u001B[43mlinalg\u001B[49m\u001B[38;5;241;43m.\u001B[39;49m\u001B[43minv\u001B[49m\u001B[43m(\u001B[49m\u001B[43ma_2\u001B[49m\u001B[43m)\u001B[49m\u001B[43m)\u001B[49m\n\u001B[0;32m      3\u001B[0m gblue_values \u001B[38;5;241m=\u001B[39m g_result[\u001B[38;5;241m1\u001B[39m:,]\n\u001B[0;32m      4\u001B[0m \u001B[38;5;28;01mfrom\u001B[39;00m \u001B[38;5;21;01mscipy\u001B[39;00m\u001B[38;5;21;01m.\u001B[39;00m\u001B[38;5;21;01mstats\u001B[39;00m \u001B[38;5;28;01mimport\u001B[39;00m pearsonr\n",
      "\u001B[1;31mTypeError\u001B[0m: solve_mixed_gblup_model() got an unexpected keyword argument 'ainv'"
     ]
    }
   ],
   "source": [
    "import gblup\n",
    "g_result = gblup.solve_mixed_gblup_model(n_obs=len(train_y), obs_ids=[i for i in range(len(train_y))], y_values=train_y, ainv=np.linalg.inv(a_2))\n",
    "gblue_values = g_result[1:,]\n",
    "from scipy.stats import pearsonr\n",
    "\n",
    "rrblup_u_1d = rrblup_u.flatten()\n",
    "gblue_values_1d = gblue_values.flatten()\n",
    "\n",
    "# Now you can calculate the correlation coefficient\n",
    "correlation_coef = np.corrcoef(rrblup_u_1d, gblue_values_1d)[0, 1]\n",
    "print(\"Correlation Coefficient (相关系数):\", correlation_coef)\n"
   ],
   "metadata": {
    "collapsed": false,
    "ExecuteTime": {
     "end_time": "2024-03-26T01:31:01.081182100Z",
     "start_time": "2024-03-26T01:30:53.400772100Z"
    }
   },
   "id": "173e3d457a409f8e",
   "execution_count": 16
  },
  {
   "cell_type": "code",
   "outputs": [],
   "source": [
    "asreml = importr('asreml')"
   ],
   "metadata": {
    "collapsed": false,
    "ExecuteTime": {
     "end_time": "2024-03-26T01:31:01.091405100Z",
     "start_time": "2024-03-26T01:31:01.086189800Z"
    }
   },
   "id": "79a0fb4f44e8b0df",
   "execution_count": null
  },
  {
   "cell_type": "code",
   "outputs": [],
   "source": [
    "from rpy2.robjects import r, pandas2ri\n",
    "# Transfer G_matrix to R\n",
    "r.assign('ID', df_pheno_ordered['Genotype'])\n",
    "r.assign('Gmat', a_2)\n",
    "r('''\n",
    "# Adjust G_matrix and invert\n",
    "library(ASRgenomics)\n",
    "rownames(Gmat) = ID\n",
    "colnames(Gmat) = ID\n",
    "diag(Gmat) <- diag(Gmat) + 0.01\n",
    "ginv = G.inverse(Gmat,sparseform = T)$Ginv.sparse''')\n"
   ],
   "metadata": {
    "collapsed": false,
    "ExecuteTime": {
     "start_time": "2024-03-26T01:31:01.089831300Z"
    }
   },
   "id": "b3e7ef8025b116",
   "execution_count": null
  },
  {
   "cell_type": "code",
   "outputs": [],
   "source": [
    "\n",
    "df_pheno_ordered['Genotype'] = df_pheno_ordered['Genotype'].astype('category')"
   ],
   "metadata": {
    "collapsed": false,
    "ExecuteTime": {
     "end_time": "2024-03-26T01:31:01.091405100Z",
     "start_time": "2024-03-26T01:31:01.091405100Z"
    }
   },
   "id": "acabf46be808b8ab",
   "execution_count": null
  },
  {
   "cell_type": "code",
   "outputs": [],
   "source": [
    "import rpy2.robjects as robjects\n",
    "\n",
    "modg = asreml.asreml(\n",
    "fixed = f('YLD14_SU ~ 1'),\n",
    "random = f('~vm(Genotype,ginv)'),\n",
    "dense = f('~vm(Genotype,ginv)'),\n",
    "residual =f('~idv(units)'), \n",
    "workspace = \"2Gb\",\n",
    "data = df_pheno_ordered)"
   ],
   "metadata": {
    "collapsed": false,
    "ExecuteTime": {
     "start_time": "2024-03-26T01:31:01.091405100Z"
    }
   },
   "id": "5e0bb540a4a4c72c",
   "execution_count": null
  },
  {
   "cell_type": "code",
   "outputs": [],
   "source": [
    "summ = asreml.summary_asreml(modg)\n",
    "print(summ.rx2('varcomp'))"
   ],
   "metadata": {
    "collapsed": false,
    "ExecuteTime": {
     "start_time": "2024-03-26T01:31:01.091405100Z"
    }
   },
   "id": "305ddc385d71eed4",
   "execution_count": null
  },
  {
   "cell_type": "code",
   "outputs": [],
   "source": [
    "asreml_u = (modg.rx2['coefficients'].rx2['random'])\n"
   ],
   "metadata": {
    "collapsed": false,
    "ExecuteTime": {
     "start_time": "2024-03-26T01:31:01.101914600Z"
    }
   },
   "id": "5b5a60ff985757ff",
   "execution_count": null
  },
  {
   "cell_type": "code",
   "outputs": [],
   "source": [
    "close = np.allclose(rrblup_u, asreml_u, rtol=0.00001, atol=0.00001)\n",
    "\n"
   ],
   "metadata": {
    "collapsed": false,
    "ExecuteTime": {
     "start_time": "2024-03-26T01:31:01.101914600Z"
    }
   },
   "id": "e2d6659412f49f53",
   "execution_count": null
  },
  {
   "cell_type": "code",
   "outputs": [],
   "source": [
    "from scipy.stats import pearsonr\n",
    "\n",
    "rrblup_u_1d = rrblup_u.flatten()\n",
    "asreml_u_1d = asreml_u.flatten()\n",
    "\n",
    "# Now you can calculate the correlation coefficient\n",
    "correlation_coef = np.corrcoef(rrblup_u_1d, asreml_u_1d)[0, 1]\n",
    "print(\"Correlation Coefficient (相关系数):\", correlation_coef)\n"
   ],
   "metadata": {
    "collapsed": false,
    "ExecuteTime": {
     "start_time": "2024-03-26T01:31:01.101914600Z"
    }
   },
   "id": "d0553370feb1b95f",
   "execution_count": null
  }
 ],
 "metadata": {
  "kernelspec": {
   "display_name": "Python 3",
   "language": "python",
   "name": "python3"
  },
  "language_info": {
   "codemirror_mode": {
    "name": "ipython",
    "version": 2
   },
   "file_extension": ".py",
   "mimetype": "text/x-python",
   "name": "python",
   "nbconvert_exporter": "python",
   "pygments_lexer": "ipython2",
   "version": "2.7.6"
  }
 },
 "nbformat": 4,
 "nbformat_minor": 5
}
