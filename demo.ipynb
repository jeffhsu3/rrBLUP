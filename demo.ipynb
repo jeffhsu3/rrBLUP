{
 "cells": [
  {
   "cell_type": "code",
   "execution_count": null,
   "id": "0dbb0801",
   "metadata": {},
   "outputs": [],
   "source": [
    "import pandas as pd\n",
    "import numpy as np\n",
    "import time\n",
    "import pyrrblup as rrBLUP"
   ]
  },
  {
   "cell_type": "code",
   "execution_count": 3,
   "id": "3cb5c9e7",
   "metadata": {},
   "outputs": [],
   "source": [
    "# Use the converted data which include nan value and genotype values with -1(0/0), 0(0/1), 1(1/1)\n",
    "\n",
    "train = pd.read_csv('data/protein.train.nan-101.csv')\n",
    "test = pd.read_csv('data/protein.test.nan-101.csv')\n",
    "\n",
    "train_x = np.array(train.drop('label', axis=1))\n",
    "train_y = np.array(train['label']).reshape(-1,1)\n",
    "test_x = np.array(test.drop('label', axis=1))\n",
    "test_y = np.array(test['label']).reshape(-1,1)"
   ]
  },
  {
   "cell_type": "code",
   "execution_count": 4,
   "id": "0646f902",
   "metadata": {},
   "outputs": [
    {
     "ename": "NameError",
     "evalue": "name 'rrBLUP' is not defined",
     "output_type": "error",
     "traceback": [
      "\u001b[0;31m---------------------------------------------------------------------------\u001b[0m",
      "\u001b[0;31mNameError\u001b[0m                                 Traceback (most recent call last)",
      "Cell \u001b[0;32mIn[4], line 4\u001b[0m\n\u001b[1;32m      1\u001b[0m \u001b[38;5;66;03m# A_mat function with mean impute method and return imputed data\u001b[39;00m\n\u001b[1;32m      3\u001b[0m start_time \u001b[38;5;241m=\u001b[39m time\u001b[38;5;241m.\u001b[39mtime()\n\u001b[0;32m----> 4\u001b[0m Amat, train_x_imp \u001b[38;5;241m=\u001b[39m \u001b[43mrrBLUP\u001b[49m\u001b[38;5;241m.\u001b[39mA_mat(train_x, impute_method \u001b[38;5;241m=\u001b[39m \u001b[38;5;124m'\u001b[39m\u001b[38;5;124mmean\u001b[39m\u001b[38;5;124m'\u001b[39m, return_imputed \u001b[38;5;241m=\u001b[39m \u001b[38;5;28;01mTrue\u001b[39;00m)\n\u001b[1;32m      5\u001b[0m end_time \u001b[38;5;241m=\u001b[39m time\u001b[38;5;241m.\u001b[39mtime()\n\u001b[1;32m      6\u001b[0m \u001b[38;5;28mprint\u001b[39m(Amat)\n",
      "\u001b[0;31mNameError\u001b[0m: name 'rrBLUP' is not defined"
     ]
    }
   ],
   "source": [
    "# A_mat function with mean impute method and return imputed data\n",
    "\n",
    "start_time = time.time()\n",
    "Amat, train_x_imp = rrBLUP.A_mat(train_x, impute_method = 'mean', return_imputed = True)\n",
    "end_time = time.time()\n",
    "print(Amat)\n",
    "print(train_x_imp)\n",
    "print('Running Time: '+str(round(end_time-start_time, 2))+' s')"
   ]
  },
  {
   "cell_type": "code",
   "execution_count": 4,
   "id": "76c2001c",
   "metadata": {},
   "outputs": [
    {
     "name": "stdout",
     "output_type": "stream",
     "text": [
      "Shrinkage intensity: -0.13\n",
      "[[ 1.53915530e+00 -1.21290885e-01  1.64457684e-01 ...  7.38946398e-02\n",
      "   1.10848339e-01 -2.23181393e-01]\n",
      " [-1.21290885e-01  1.34648984e+00 -1.96715656e-01 ... -2.43658814e-01\n",
      "  -1.73682109e-01 -5.72456985e-02]\n",
      " [ 1.64457684e-01 -1.96715656e-01  1.50444535e+00 ...  8.88722643e-02\n",
      "  -2.80602160e-01 -1.69475628e-01]\n",
      " ...\n",
      " [ 7.38946398e-02 -2.43658814e-01  8.88722643e-02 ...  1.19272543e+00\n",
      "  -2.21147613e-01 -1.03768779e-03]\n",
      " [ 1.10848339e-01 -1.73682109e-01 -2.80602160e-01 ... -2.21147613e-01\n",
      "   1.31540183e+00 -5.83807442e-02]\n",
      " [-2.23181393e-01 -5.72456985e-02 -1.69475628e-01 ... -1.03768779e-03\n",
      "  -5.83807442e-02  1.43880945e+00]]\n",
      "Running Time: 77.6 s\n"
     ]
    }
   ],
   "source": [
    "# A_mat function with REG shrink\n",
    "\n",
    "start_time = time.time()\n",
    "Amat = rrBLUP.A_mat(train_x_imp, shrink = \"REG\")\n",
    "end_time = time.time()\n",
    "print(Amat)\n",
    "print('Running Time: '+str(round(end_time-start_time, 2))+' s')"
   ]
  },
  {
   "cell_type": "code",
   "execution_count": 5,
   "id": "252508dc",
   "metadata": {},
   "outputs": [],
   "source": [
    "_, test_x_imp = rrBLUP.A_mat(test_x, impute_method = 'mean', return_imputed = True)"
   ]
  },
  {
   "cell_type": "code",
   "execution_count": 6,
   "id": "d9b7405f",
   "metadata": {
    "scrolled": false
   },
   "outputs": [
    {
     "name": "stdout",
     "output_type": "stream",
     "text": [
      "{'Vu': 0.0003357920566962145, 'Ve': array([0.62794301]), 'beta': array([[0.01984024]]), 'u': array([[-0.02586448],\n",
      "       [-0.0200761 ],\n",
      "       [-0.00426553],\n",
      "       ...,\n",
      "       [-0.0105526 ],\n",
      "       [-0.01251296],\n",
      "       [-0.01523766]]), 'LL': array([-5290.27755271])}\n",
      "Running Time: 61.43 s\n",
      "[[-0.40751316]\n",
      " [-0.93705758]\n",
      " [ 2.17188063]\n",
      " ...\n",
      " [ 0.43804971]\n",
      " [-1.27869914]\n",
      " [ 1.87294426]]\n",
      "[[ 0.0217592 ]\n",
      " [-0.25779721]\n",
      " [ 1.48419103]\n",
      " ...\n",
      " [ 1.02846712]\n",
      " [-0.79213007]\n",
      " [ 0.96663782]]\n",
      "[[0.92488893]\n",
      " [1.84732115]\n",
      " [1.04446348]\n",
      " ...\n",
      " [0.45513178]\n",
      " [1.0273814 ]\n",
      " [1.25798945]]\n",
      "[[ 1.3971361 ]\n",
      " [ 1.18552083]\n",
      " [ 0.32032063]\n",
      " ...\n",
      " [-0.58659504]\n",
      " [ 0.20962035]\n",
      " [ 0.47375255]]\n"
     ]
    }
   ],
   "source": [
    "# mixed_solve function using matrix Z as input\n",
    "\n",
    "start_time = time.time()\n",
    "result = rrBLUP.mixed_solve(y = train_y, Z = train_x_imp)\n",
    "end_time = time.time()\n",
    "print(result)\n",
    "print('Running Time: '+str(round(end_time-start_time, 2))+' s')\n",
    "train_pred = np.dot(train_x_imp, result['u']) + result['beta']\n",
    "test_pred = np.dot(test_x_imp, result['u']) + result['beta']\n",
    "print(train_y)\n",
    "print(train_pred)\n",
    "print(test_y)\n",
    "print(test_pred)"
   ]
  },
  {
   "cell_type": "code",
   "execution_count": 7,
   "id": "a3a4e1df",
   "metadata": {},
   "outputs": [
    {
     "name": "stdout",
     "output_type": "stream",
     "text": [
      "{'Vu': 0.7103740147314892, 'Ve': array([0.62794263]), 'beta': array([[0.0184644]]), 'u': array([[ 0.0032946 ],\n",
      "       [-0.27626182],\n",
      "       [ 1.46572679],\n",
      "       ...,\n",
      "       [ 1.0100037 ],\n",
      "       [-0.81059465],\n",
      "       [ 0.94817382]]), 'LL': array([-5290.27755271])}\n",
      "Running Time: 139.81 s\n",
      "[[-0.40751316]\n",
      " [-0.93705758]\n",
      " [ 2.17188063]\n",
      " ...\n",
      " [ 0.43804971]\n",
      " [-1.27869914]\n",
      " [ 1.87294426]]\n",
      "[[ 0.02175899]\n",
      " [-0.25779742]\n",
      " [ 1.48419119]\n",
      " ...\n",
      " [ 1.02846809]\n",
      " [-0.79213025]\n",
      " [ 0.96663822]]\n"
     ]
    }
   ],
   "source": [
    "# mixed_solve function using matrix K as input\n",
    "\n",
    "start_time = time.time()\n",
    "result = rrBLUP.mixed_solve(y = train_y, K = rrBLUP.A_mat(train_x_imp))\n",
    "end_time = time.time()\n",
    "print(result)\n",
    "print('Running Time: '+str(round(end_time-start_time, 2))+' s')\n",
    "train_pred = result['u'] + result['beta']\n",
    "print(train_y)\n",
    "print(train_pred)"
   ]
  }
 ],
 "metadata": {
  "kernelspec": {
   "display_name": "ivn",
   "language": "python",
   "name": "python3"
  },
  "language_info": {
   "codemirror_mode": {
    "name": "ipython",
    "version": 3
   },
   "file_extension": ".py",
   "mimetype": "text/x-python",
   "name": "python",
   "nbconvert_exporter": "python",
   "pygments_lexer": "ipython3",
   "version": "3.11.7"
  }
 },
 "nbformat": 4,
 "nbformat_minor": 5
}
